{
 "cells": [
  {
   "cell_type": "markdown",
   "metadata": {},
   "source": [
    "## TP3 : Logistic regression\n",
    "\n",
    "The purpose of this tutorial is to implement and use the Logistic Regression for binary classification. We will apply this\n",
    "method to the problem of handwritten characters to learn how to\n",
    "distinguish two numbers (here 5 and 6).\n"
   ]
  },
  {
   "cell_type": "code",
   "execution_count": 1,
   "metadata": {},
   "outputs": [
    {
     "name": "stdout",
     "output_type": "stream",
     "text": [
      "Populating the interactive namespace from numpy and matplotlib\n"
     ]
    },
    {
     "name": "stderr",
     "output_type": "stream",
     "text": [
      "/home/kronert/anaconda3/lib/python3.6/site-packages/IPython/core/magics/pylab.py:160: UserWarning: pylab import has clobbered these variables: ['fft', 'info', 'random', 'linalg', 'power']\n",
      "`%matplotlib` prevents importing * from pylab and numpy\n",
      "  \"\\n`%matplotlib` prevents importing * from pylab and numpy\"\n"
     ]
    }
   ],
   "source": [
    "from pylab import *\n",
    "import numpy as np\n",
    "import matplotlib.pyplot as plt\n",
    "\n",
    "from numpy import linalg as la\n",
    "%pylab inline\n",
    "pylab.rcParams['figure.figsize'] = (15, 8)\n",
    "from sklearn.discriminant_analysis import LinearDiscriminantAnalysis\n",
    "import os\n",
    "#os.chdir(\"U:\\DAD\\ML\\ML_Logistic_Regression-master\\TP3_archive\")"
   ]
  },
  {
   "cell_type": "markdown",
   "metadata": {},
   "source": [
    "## 1. Logistic regression, IRLS algorithm."
   ]
  },
  {
   "cell_type": "markdown",
   "metadata": {},
   "source": [
    "### Preliminary question: the algorithm"
   ]
  },
  {
   "cell_type": "markdown",
   "metadata": {},
   "source": [
    "#### Have a look at the function `regression_logistique.m` and locate the main steps of the algorithm you have been taught (see course).\n",
    "You can comment the code in the cell below."
   ]
  },
  {
   "cell_type": "code",
   "execution_count": 41,
   "metadata": {},
   "outputs": [],
   "source": [
    "def regression_logistique(X,t,Nitermax=20,eps_conv=1e-3):\n",
    "    '''Entrees :\n",
    "    X = [ones(N_train,1) x_train];\n",
    "    t = class_train \n",
    "    Nitermax = nombre maximale d'itérations (20 par défaut)\n",
    "    eps_conv = critère de convergence sur norm(w-w_old)/norm(w) ; \n",
    "    eps_conv=1e-3 par défaut\n",
    "    \n",
    "    Sorties : \n",
    "    w : vecteur des coefficients de régression logistique\n",
    "   Niter : nombre d'itérations utilisées effectivement\n",
    "   \n",
    "   Fonction de régression logistique pour la classification binaire.\n",
    "   \n",
    "   Utilisation :\n",
    "       Nitermax = 50\n",
    "       eps_conv = 1e-4\n",
    "       [w,Niter] = regression_logistique(X,t,Nitermax,eps_conv)\n",
    "    '''\n",
    "    N_train = X.shape[0]\n",
    "\n",
    "    #initialisation : 1 pas de l'algorithme IRLS\n",
    "    w = np.zeros((X.shape[1],))\n",
    "    w_old = w \n",
    "    y = 1/2*np.ones((N_train,)) # sigma(0) = 1/2\n",
    "    R = np.diag(y*(1-y))   # diag(y_n(1-y_n))\n",
    "    z = X.dot(w_old)-la.inv(R).dot(y-t)\n",
    "    w = la.inv(X.T.dot(R).dot(X)).dot(X.T).dot(R).dot(z)\n",
    "    # boucle appliquant l'algortihme de Newton-Raphson\n",
    "    Niter = 1\n",
    "    while ( (la.norm(w-w_old)/la.norm(w)>eps_conv) & (Niter<Nitermax) ):\n",
    "        Niter = Niter+1\n",
    "        y = 1/(1+np.exp(-X.dot(w)))\n",
    "        R = np.diag(y*(1-y))  # Matrice Hessienne de la fonction coût\n",
    "        w_old = w \n",
    "        # Newton Raphton\n",
    "        z = X.dot(w_old)-la.inv(R).dot(y-t) \n",
    "        w = la.inv(X.T.dot(R).dot(X)).dot(X.T).dot(R).dot(z)\n",
    "         \n",
    "    return w, Niter\n"
   ]
  },
  {
   "cell_type": "markdown",
   "metadata": {},
   "source": [
    "## Functions tools"
   ]
  },
  {
   "cell_type": "code",
   "execution_count": 3,
   "metadata": {},
   "outputs": [],
   "source": [
    "add_feature={}\n",
    "\n",
    "def add_quadratic(X):\n",
    "    res = hstack((ones((X.shape[0],1)),X,X**2))\n",
    "    n = X.shape[1]\n",
    "    for i in range(n):\n",
    "        for j in range(i):\n",
    "            res = hstack((res,(X[:,i]*X[:,j]).reshape((-1,1))))\n",
    "    return res\n",
    "\n",
    "add_feature[\"quadratic\"] = add_quadratic\n",
    "add_feature[\"one\"] = lambda X : hstack((ones((X.shape[0],1)),X))\n",
    "\n",
    "def sigma(x):\n",
    "    \"\"\"\n",
    "    Compute the sigmoid value of x\n",
    "    parameters : \n",
    "        - x a float\n",
    "    return :\n",
    "        - 1/(1+exp(-x))\n",
    "    \"\"\"\n",
    "    return 1/(1 + np.exp(-x))\n",
    "\n",
    "def logistic_decision(X,w):\n",
    "    \"\"\"\n",
    "    params:\n",
    "    - X = [ones(N,1) x]\n",
    "    - w = weight matrix \n",
    "    \n",
    "    return:\n",
    "    - prediction : vector of predictions (class 1 or 2)\n",
    "    \"\"\"\n",
    "    sigm_Xw = sigma(X.dot(w))\n",
    "    prediction = np.ones(sigm_Xw.shape)\n",
    "    prediction [sigm_Xw < 0.5] = 2\n",
    "    return prediction\n",
    "\n",
    "\n",
    "def erreur(predicted_labels,real_labels,printer=False):\n",
    "    \"\"\"\n",
    "    compute the errors rate in %\n",
    "    parameters :\n",
    "        - predicted_labels \n",
    "        - real_labels\n",
    "        - printer: if True, print the error rate\n",
    "    \"\"\"\n",
    "    if printer == True :\n",
    "        print(\"error rate :\",100*(predicted_labels!=real_labels).sum()/predicted_labels.shape[0],\"%\")\n",
    "    return 100*(predicted_labels!=real_labels).sum()/predicted_labels.shape[0]"
   ]
  },
  {
   "cell_type": "code",
   "execution_count": 4,
   "metadata": {},
   "outputs": [],
   "source": [
    "def plot_DB_logistic (w,x1min =-2.5 , x1max =1.5, nbpoints =10 ,style='k--'):\n",
    "    \"\"\"\n",
    "    Plot decision boundary line for logistic regression\n",
    "    param :\n",
    "    - w : weight (3,1)\n",
    "\n",
    "    \"\"\"\n",
    "    x1 = np.linspace(x1min,x1max,nbpoints) \n",
    "    x2 = (-w[0]-w[1]*x1)/w[2]\n",
    "    plt.plot(x1,x2,style)\n",
    "    \n",
    "    \n",
    "\n",
    "def plot_prediction_zones_LR(w,add_f=\"one\"):\n",
    "    \"\"\"\n",
    "    plot the decision bondary \n",
    "    parameters :\n",
    "        - w the parameters of the logistic regression\n",
    "    \"\"\"\n",
    "    x_1 = linspace(-2.5,1.5,500)\n",
    "    x_2 = linspace(-1,4,500)\n",
    "    [X1,X2] = meshgrid(x_1,x_2)\n",
    "    grid = c_[X1.ravel(),X2.ravel()]\n",
    "    G = add_feature[add_f](grid)\n",
    "    G_test = (sigma(w.dot(G.T))>0.5)\n",
    "    contourf(X1,X2,G_test.reshape(X1.shape))\n",
    "    \n",
    "    \n",
    "def plot_prediction_zones_LDA(LDA_algo,x2min=-10,x2max=5):\n",
    "    Nx1=100 # number of samples for display\n",
    "    Nx2=100\n",
    "    x1=np.linspace(-2.5,1.5,Nx1)  # sampling of the x1 axis \n",
    "    x2=np.linspace(x2min,x2max,Nx2)  # sampling of the x2 axis\n",
    "    [X1,X2]=np.meshgrid(x1,x2)  \n",
    "    x=np.vstack((X1.flatten('F'),X2.flatten('F'))) # list of the coordinates of points on the grid\n",
    "    class_L = np.array(LDA_algo.predict(x.T))\n",
    "    plt.plot(x[0,class_L==1],x[1,class_L==1],'lightgray',label = \"predict class 1 zone\")\n",
    "    plt.plot(x[0,class_L==2],x[1,class_L==2],'papayawhip',label = \"predict class 2 zone\")"
   ]
  },
  {
   "cell_type": "code",
   "execution_count": 5,
   "metadata": {},
   "outputs": [],
   "source": [
    "def afficher_inference(x,labels,true_labels=None, title = \"Predictions\",):\n",
    "    \"\"\" \n",
    "    plot the points of x (2D), plot the point x[i,:] in blue if labels[i] == 1 and in yellow if labels[i] == 2\n",
    "    \n",
    "    If labels corresponds to labels predicted by an algorithm, we can specify true_labels, and it will plot the wrong \n",
    "    predictions in red*.\n",
    "    \n",
    "    parameters :\n",
    "        - x : points with 2 features (N,2)\n",
    "        - labels : the labels (class 1 or 2) from which we classify the points of x (N,1)\n",
    "        - true_labels : the real labels of the data set (N,1)\n",
    "        - title : string, title of plot\n",
    "    \"\"\"\n",
    "    \n",
    "    plt.title(title)\n",
    "\n",
    "    if str(true_labels) != \"None\": # Si labels correspond à des prédictions d'un algo\n",
    "        plt.plot (x[labels==1,0],x[labels==1,1],'bo',label=\"predicted class 1\")\n",
    "        plt.plot (x[labels==2,0],x[labels==2,1],'yo',label=\"predicted class 2\")\n",
    "        plt.plot (x[true_labels!=labels,0],x[true_labels!=labels,1],'r*', label = \"wrong prediction\")\n",
    "        \n",
    "    else : # Si labels sont par exemple les vrai labels, par ex pour plotter le dataset: \n",
    "        plt.plot (x[labels==1,0],x[labels==1,1],'bo',label=\"class 1\")\n",
    "        plt.plot (x[labels==2,0],x[labels==2,1],'yo',label=\"class 2\")\n",
    "    plt.legend()"
   ]
  },
  {
   "cell_type": "code",
   "execution_count": 73,
   "metadata": {},
   "outputs": [],
   "source": [
    "class Logistic_Regression():\n",
    "    \"\"\" Wrapper for logistic regression method\"\"\"\n",
    "    \n",
    "    def __init__(self,add_feature=\"one\"):\n",
    "        \"\"\"Init the logistic regression methode\n",
    "        parameter:\n",
    "             - add_feature define the type of parameter adding\"\"\"\n",
    "        self.add_f = add_feature\n",
    "        \n",
    "    def train(self, x_train, t_train, Niter = 20, eps = 1e-3):\n",
    "        \"\"\" \n",
    "        Use Logistic regression to compute the parameter who fit the data\n",
    "        parameters :\n",
    "            - x_train training set features\n",
    "            - t_train trainig set labels\n",
    "            - Niter maximal number of iterations\n",
    "        \"\"\"\n",
    "        X = add_feature[self.add_f](x_train)\n",
    "        self.w, Niter = regression_logistique(X, t_train, Niter, eps)\n",
    "    \n",
    "    def train_l2(self, x_train, t_train, Lambda, Niter = 20, eps = 1e-3):\n",
    "        \"\"\" \n",
    "        Use Logistic regression to compute the parameter who fit the data\n",
    "        parameters :\n",
    "            - x_train training set features\n",
    "            - t_train trainig set labels\n",
    "            - Niter maximal number of iterations\n",
    "        \"\"\"\n",
    "        X = add_feature[self.add_f](x_train)\n",
    "        self.w, Niter = regression_logistique_l2(X, t_train,Lambda, Niter, eps)\n",
    "    \n",
    "    def inference(self, x):\n",
    "        \"\"\"\n",
    "        compute the probability that x belong to class 1\n",
    "        \"\"\"\n",
    "        X = add_feature[self.add_f](x)\n",
    "        return sigma(self.w.dot(X.T))\n",
    "    \n",
    "    def predict(self, x):\n",
    "        \"\"\" \n",
    "        decide knowing the features the label of x\n",
    "        parameters :\n",
    "            - x a test set of features\n",
    "        return :\n",
    "            - the predicted classes\n",
    "        \"\"\"\n",
    "        X = add_feature[self.add_f](x)\n",
    "        return logistic_decision(X,self.w)\n",
    "    \n",
    "    def error_rate(self, x ,t,printer=True):\n",
    "        \"\"\" Compute the error rate\"\"\"\n",
    "        y = self.predict(x)\n",
    "        return erreur(y,t,printer=printer)\n",
    "        \n",
    "    \n",
    "    def plot_result(self, x,t,title=\"Predictions\"):\n",
    "        \"\"\" Plot the results\n",
    "             - decision boundary\n",
    "             - predicted classes\n",
    "             - error rate\"\"\"\n",
    "        y = self.predict(x)\n",
    "        plot_prediction_zones_LR(self.w,add_f=self.add_f)\n",
    "        afficher_inference(x,y,true_labels=t, title = title,)\n",
    "        erreur(y,t,printer=True)\n"
   ]
  },
  {
   "cell_type": "markdown",
   "metadata": {},
   "source": [
    "### Reading & preparing synthetic data\n",
    "\n",
    "Load the training and test data sets `synth_train.txt`\n",
    "and `synth_test.txt`. The targets t belong to {1,2} and the features  \n",
    "x belong to R^2. \n",
    "\n",
    "We have 100 training samples and 200 test samples\n",
    "\n",
    "* the 1st column contains the label of each sample, \n",
    "* columns 2 and 3 contain the coordinate of each point."
   ]
  },
  {
   "cell_type": "code",
   "execution_count": 7,
   "metadata": {},
   "outputs": [
    {
     "data": {
      "image/png": "[encoded data removed]",
      "text/plain": [
       "<Figure size 432x288 with 2 Axes>"
      ]
     },
     "metadata": {},
     "output_type": "display_data"
    }
   ],
   "source": [
    "# Training set\n",
    "synth_train = np.loadtxt('synth_train.txt') \n",
    "class_train = synth_train[:,0]\n",
    "class_train_1 = np.where(synth_train[:,0]==1)[0]\n",
    "class_train_2 = np.where(synth_train[:,0]==2)[0]\n",
    "x_train = synth_train[:,1:]\n",
    "N_train = np.size(x_train,axis=0)\n",
    "\n",
    "# Test set\n",
    "synth_test = np.loadtxt('synth_test.txt')\n",
    "class_test = synth_test[:,0]\n",
    "class_test_1 = np.where(synth_test[:,0]==1)[0]\n",
    "class_test_2 = np.where(synth_test[:,0]==2)[0]\n",
    "x_test = synth_test[:,1:]\n",
    "N_test = np.size(x_test,axis=0)\n",
    "\n",
    "\n",
    "plt.subplot(121)\n",
    "afficher_inference(x_train,class_train,true_labels=None, title = \"Data training set\",)\n",
    "\n",
    "plt.subplot(122)\n",
    "afficher_inference(x_test,class_test,true_labels=None, title = \"Data test set\",)"
   ]
  },
  {
   "cell_type": "markdown",
   "metadata": {},
   "source": [
    "### Preparing features for logistic regression (binary classification)\n",
    "First, we prepare the feature matrix and the target vector associated to \n",
    "the training and test sets:\n"
   ]
  },
  {
   "cell_type": "code",
   "execution_count": 8,
   "metadata": {},
   "outputs": [],
   "source": [
    "X = np.hstack((np.ones((N_train,1)),x_train))\n",
    "t = 2-class_train   # 0 if class=2, 1 if class=1\n",
    "\n",
    "X_test = np.hstack((np.ones((N_test,1)),x_test))\n",
    "t_test = 2-class_test   # 0 if class=2, 1 if class=1\n"
   ]
  },
  {
   "cell_type": "markdown",
   "metadata": {},
   "source": [
    "### Exercise 1 : the logistic function of decision\n",
    "\n",
    "1. Use the function `regression_logistique.m` to estimate the logistic\n",
    "regression vector `w`. *Indication : use `Nitermax = 50;\n",
    "eps_conv=1e-3;`.*\n",
    "2. Compute the decision function $f(x) = argmax_k P(C_k|x)$ on the test set\n",
    "to get the classification results. Recall that $y_n=\\sigma(w^T x)$ (logistic function)\n",
    "and that *using vectors* you may directly write $y=\\sigma(Xw)$, with the\n",
    "column of ones in X.\n",
    "3. Display the results by plotting the points from both the training set\n",
    "and the test set.\n",
    "4. Write the equation which defines the decision boundary.\n",
    "5. Artificially add a few points to the training set far from the decision boundary to check the robustness of logistic regression to outliers. Check the behaviour of LDA for comparison in this case and comment. \n"
   ]
  },
  {
   "cell_type": "code",
   "execution_count": 9,
   "metadata": {},
   "outputs": [
    {
     "name": "stdout",
     "output_type": "stream",
     "text": [
      "Trainig set\n",
      "error rate : 3.0 %\n",
      "Test set\n",
      "error rate : 6.0 %\n"
     ]
    },
    {
     "data": {
      "image/png": "[encoded data removed]",
      "text/plain": [
       "<Figure size 432x288 with 2 Axes>"
      ]
     },
     "metadata": {},
     "output_type": "display_data"
    }
   ],
   "source": [
    "#Exercise 1\n",
    "LR = Logistic_Regression()\n",
    "LR.train(x_train, t)\n",
    "\n",
    "plt.subplot(121)\n",
    "print(\"Trainig set\")\n",
    "LR.plot_result(x_train, class_train,title=\"Predictions training set\")\n",
    "plot_DB_logistic(LR.w)\n",
    "\n",
    "plt.subplot(122)\n",
    "print(\"Test set\")\n",
    "LR.plot_result(x_test, class_test,title=\"Predictions test set\")\n",
    "plot_DB_logistic(LR.w)"
   ]
  },
  {
   "cell_type": "markdown",
   "metadata": {},
   "source": [
    "A point X = (x,y) is in the decision boundary if <br>\n",
    "    $sigmoid(X,w) = 0.5 <=> Xw = 0 , <=> $ y = - $\\frac{w_0 + w_1 x }{w_2} $"
   ]
  },
  {
   "cell_type": "markdown",
   "metadata": {},
   "source": [
    "#### Robustness to outliers"
   ]
  },
  {
   "cell_type": "code",
   "execution_count": 10,
   "metadata": {},
   "outputs": [
    {
     "data": {
      "image/png": "[encoded data removed]",
      "text/plain": [
       "<Figure size 432x288 with 1 Axes>"
      ]
     },
     "metadata": {},
     "output_type": "display_data"
    }
   ],
   "source": [
    "## Construct new data with outliers\n",
    "\n",
    "# Outliers: 1st column is class, 2nd and 3rd are features\n",
    "synth_outliers = np.array([[2, -2, -10],\n",
    "                            [2, -1,-10]]) \n",
    "\n",
    "# Training set with outliers\n",
    "synth_train_outliers = np.concatenate((synth_train,synth_outliers))\n",
    "\n",
    "class_train_outliers = synth_train_outliers[:,0]\n",
    "x_train_outliers = synth_train_outliers[:,1:]\n",
    "\n",
    "t_outliers = 2-class_train_outliers   # 0 if class=2, 1 if class=1\n",
    "\n",
    "\n",
    "N_train_outliers = np.size(x_train_outliers,axis=0)\n",
    "\n",
    "X_outliers = add_feature[\"one\"](x_train_outliers)\n",
    "#X_outliers = np.hstack((np.ones((N_train_outliers,1)),x_train_outliers))\n",
    "t_outliers = 2-class_train_outliers   # 0 if class=2, 1 if class=1\n",
    "\n",
    "afficher_inference(x_train_outliers,class_train_outliers,title=\"Data training set with outliers\")"
   ]
  },
  {
   "cell_type": "code",
   "execution_count": 11,
   "metadata": {},
   "outputs": [],
   "source": [
    "##Logistic regression\n",
    "#no outliers\n",
    "w, Niter = regression_logistique(X, t,Nitermax=50, eps_conv=1e-3)\n",
    "prediction_train = logistic_decision (X,w)\n",
    "#with outliers\n",
    "w_outliers, Niter = regression_logistique(X_outliers, t_outliers,Nitermax=50, eps_conv=1e-3)\n",
    "prediction_train_outliers= logistic_decision (X_outliers,w_outliers)\n",
    "\n",
    "\n",
    "\n",
    "## LDA \n",
    "#no outliers\n",
    "LDA = LinearDiscriminantAnalysis()\n",
    "LDA.fit(x_train,class_train)\n",
    "LDA_prediction_train = LDA.predict(x_train)\n",
    "#with outliers\n",
    "LDA_outliers = LinearDiscriminantAnalysis()\n",
    "LDA_outliers.fit(x_train_outliers,class_train_outliers)\n",
    "LDA_prediction_train_outliers = LDA_outliers.predict(x_train_outliers)"
   ]
  },
  {
   "cell_type": "code",
   "execution_count": 12,
   "metadata": {},
   "outputs": [
    {
     "name": "stdout",
     "output_type": "stream",
     "text": [
      "Error rate training set Logistic regresion no outliers: 3.0 %\n",
      "Error rate training set Logistic with outliers: 2.9411764705882355 %\n",
      "Error rate training set LDA no outliers: 3.0 %\n",
      "Error rate training set LDA with outliers: 8.823529411764707 %\n"
     ]
    },
    {
     "data": {
      "image/png": "[encoded data removed]",
      "text/plain": [
       "<Figure size 432x288 with 4 Axes>"
      ]
     },
     "metadata": {},
     "output_type": "display_data"
    }
   ],
   "source": [
    "##Logistic regresion \n",
    "#no outliers\n",
    "print(\"Error rate training set Logistic regresion no outliers:\", erreur(prediction_train,class_train),\"%\")\n",
    "plt.subplot(221)\n",
    "afficher_inference (x_train,prediction_train,title = \"Predictions training set no outliers\",\n",
    "                    true_labels = class_train)\n",
    "plot_DB_logistic(w)\n",
    "\n",
    "#with outliers\n",
    "print(\"Error rate training set Logistic with outliers:\",erreur(prediction_train_outliers,class_train_outliers),\"%\")\n",
    "plt.subplot(223)\n",
    "afficher_inference (x_train_outliers,prediction_train_outliers,\n",
    "                    title = \"Predictions training set logistic with outliers\", true_labels = class_train_outliers)\n",
    "plot_DB_logistic(w_outliers)\n",
    "\n",
    "\n",
    "##LDA \n",
    "#no outliers\n",
    "print(\"Error rate training set LDA no outliers:\",erreur(LDA_prediction_train,class_train),\"%\")\n",
    "plt.subplot(222)\n",
    "plot_prediction_zones_LDA(LDA,x2min =-0.5, x2max=5)#plot predictions zones (ie decision boundaries)\n",
    "afficher_inference (x_train,LDA_prediction_train,\n",
    "                    title =\"Predictions training set LDA no outliers\", true_labels = class_train)\n",
    "\n",
    "#with outliers\n",
    "print(\"Error rate training set LDA with outliers:\",erreur(LDA_prediction_train_outliers,class_train_outliers),\"%\")\n",
    "plt.subplot(224)\n",
    "plot_prediction_zones_LDA(LDA_outliers)#plot predictions zones\n",
    "afficher_inference (x_train_outliers,LDA_prediction_train_outliers,\n",
    "                    title = \"Predictions training set LDA with outliers\", true_labels = class_train_outliers)"
   ]
  },
  {
   "cell_type": "markdown",
   "metadata": {},
   "source": [
    "#### Adding quadratic features"
   ]
  },
  {
   "cell_type": "code",
   "execution_count": 13,
   "metadata": {},
   "outputs": [
    {
     "name": "stdout",
     "output_type": "stream",
     "text": [
      "error rate : 3.0 %\n",
      "error rate : 5.5 %\n"
     ]
    },
    {
     "data": {
      "image/png": "[encoded data removed]",
      "text/plain": [
       "<Figure size 432x288 with 2 Axes>"
      ]
     },
     "metadata": {},
     "output_type": "display_data"
    }
   ],
   "source": [
    "LRq = Logistic_Regression(add_feature=\"quadratic\")\n",
    "LRq.train(x_train, t)\n",
    "subplot(121)\n",
    "LRq.plot_result(x_train, class_train,title=\"prediction on train set\")\n",
    "subplot(122)\n",
    "LRq.plot_result(x_test, class_test,title=\"prediction on test set\")"
   ]
  },
  {
   "cell_type": "markdown",
   "metadata": {},
   "source": [
    "## 2. Application: handwritten digits recognition 5 & 6\n",
    "We load 2 matrices which contain each a sequence of examples of 16x16 images \n",
    "of handwritten digits which are 5 and 6 here. Each line of the matrix\n",
    "contains 256 pixel values coding for the gray level of a 16x16 image."
   ]
  },
  {
   "cell_type": "code",
   "execution_count": 14,
   "metadata": {},
   "outputs": [],
   "source": [
    "train_5 = np.loadtxt('train_5.txt',delimiter=',')   # 556 samples\n",
    "train_6 = np.loadtxt('train_6.txt',delimiter=',')   # 664 samples"
   ]
  },
  {
   "cell_type": "markdown",
   "metadata": {},
   "source": [
    "### Examples of images\n"
   ]
  },
  {
   "cell_type": "code",
   "execution_count": 15,
   "metadata": {},
   "outputs": [
    {
     "data": {
      "image/png": "[encoded data removed]",
      "text/plain": [
       "<Figure size 432x288 with 1 Axes>"
      ]
     },
     "metadata": {},
     "output_type": "display_data"
    }
   ],
   "source": [
    "# Digit 5\n",
    "n=9;\n",
    "I = np.reshape(train_5[n,:],(16,16))\n",
    "\n",
    "plt.imshow(I,cmap='gray')\n",
    "plt.show()"
   ]
  },
  {
   "cell_type": "code",
   "execution_count": 16,
   "metadata": {},
   "outputs": [
    {
     "data": {
      "image/png": "[encoded data removed]",
      "text/plain": [
       "<Figure size 432x288 with 1 Axes>"
      ]
     },
     "metadata": {},
     "output_type": "display_data"
    }
   ],
   "source": [
    "# Digit 6\n",
    "n=5;\n",
    "I = reshape(train_6[n,:],(16,16))\n",
    "\n",
    "plt.imshow(I,cmap='gray')\n",
    "plt.show()"
   ]
  },
  {
   "cell_type": "markdown",
   "metadata": {},
   "source": [
    "### Separating the training and test sets\n",
    "\n",
    "We keep in the training set the 145 first images of 5s and the 200 first\n",
    "images of 6s:\n"
   ]
  },
  {
   "cell_type": "code",
   "execution_count": 17,
   "metadata": {},
   "outputs": [],
   "source": [
    "x_train_brut = np.vstack((train_5[:145,:], train_6[:200,:]))\n",
    "N_train = np.size(x_train_brut,axis=0)\n",
    "class_train = np.ones((345,1))   # label 1 for digit 6\n",
    "class_train[:145] = 2      # label 2 for digit 5, it allow to use function from part one\n",
    "\n",
    "x_test_brut = np.vstack((train_5[145:,:], train_6[200:,:]))\n",
    "N_test = np.size(train_5,axis=0)+np.size(train_6,axis=0)-N_train\n",
    "class_test = np.ones((N_test,1))\n",
    "class_test[:556-145] = 2\n",
    "\n",
    "t_train = class_train != 2 "
   ]
  },
  {
   "cell_type": "markdown",
   "metadata": {},
   "source": [
    "## Exercise 2: logistic regression to classify 5 & 6\n",
    "\n",
    "1. Note that pixel values are between -1 and 1 by using the functions\n",
    " `min(I(:))` and `max(I(:))`.\n",
    "2. Identify the indices of the most significant pixels, which are defined \n",
    "as having a standard deviation greater than 0.5 here. We denote by `lis_sig`\n",
    "the list of positions of these significant pixels in the image vector.\n",
    "_Indication : the function `std` gives the standard deviation (columnwise\n",
    "in matrices) and you should find 173 pixel positions.\n",
    "3. Show a binary image to locate these pixels.\n",
    "_Indication : `Isig = zeros(16); Isig(list_sig)=1; Isig=Isig';`._\n",
    "4. Define the training set `x_train` from `x_train_brut` from the significant pixels only.\n",
    "5. Do the same with `x_test_brut` to extract `x_test`.\n",
    "6. Use `regression_logistique.m` to estimate the logistic regression vector\n",
    "`w` from the training set `x_train`. \n",
    "Choose `Nitermax = 13; eps_conv = 1e-3;`\n",
    "7. Compute the decision function and the labels of the test set `x_test`. \n",
    "_Indication : do not forget the column of ones !_\n",
    "8. Estimate the classification error rate by using :\n",
    "`erreur = sum(abs(class-class_test))/N_test;`.\n",
    "9. Locate some misclassified examples and visualize the corresponding image.\n",
    "Comment on your results and observations.\n"
   ]
  },
  {
   "cell_type": "code",
   "execution_count": 18,
   "metadata": {},
   "outputs": [
    {
     "data": {
      "text/plain": [
       "(-1.0, 1.0)"
      ]
     },
     "execution_count": 18,
     "metadata": {},
     "output_type": "execute_result"
    }
   ],
   "source": [
    "# Exercise 2\n",
    "np.min(I),np.max(I)"
   ]
  },
  {
   "cell_type": "code",
   "execution_count": 19,
   "metadata": {},
   "outputs": [
    {
     "data": {
      "text/plain": [
       "Text(0.5,1,'Standart deviation of pixels')"
      ]
     },
     "execution_count": 19,
     "metadata": {},
     "output_type": "execute_result"
    },
    {
     "data": {
      "image/png": "[encoded data removed]",
      "text/plain": [
       "<Figure size 432x288 with 1 Axes>"
      ]
     },
     "metadata": {},
     "output_type": "display_data"
    }
   ],
   "source": [
    "std = x_train_brut.std(axis=0).reshape((16,16)) # compute the standart deviation of each pixel\n",
    "imshow(std,cmap='gray')\n",
    "title(\"Standart deviation of pixels\")"
   ]
  },
  {
   "cell_type": "code",
   "execution_count": 20,
   "metadata": {},
   "outputs": [
    {
     "name": "stdout",
     "output_type": "stream",
     "text": [
      "there are 173 significant pixels\n"
     ]
    },
    {
     "data": {
      "text/plain": [
       "Text(0.5,1,'Significants pixels')"
      ]
     },
     "execution_count": 20,
     "metadata": {},
     "output_type": "execute_result"
    },
    {
     "data": {
      "image/png": "[encoded data removed]",
      "text/plain": [
       "<Figure size 432x288 with 1 Axes>"
      ]
     },
     "metadata": {},
     "output_type": "display_data"
    }
   ],
   "source": [
    "is_significant = x_train_brut.std(axis=0)>0.5 # pixels with standart deviation greater than 0.5\n",
    "print(f\"there are { is_significant.sum()} significant pixels\")\n",
    "\n",
    "\n",
    "imshow(is_significant.reshape((16,16)),cmap='gray')\n",
    "title(\"Significants pixels\")"
   ]
  },
  {
   "cell_type": "code",
   "execution_count": 21,
   "metadata": {},
   "outputs": [
    {
     "data": {
      "text/plain": [
       "(100, 2)"
      ]
     },
     "execution_count": 21,
     "metadata": {},
     "output_type": "execute_result"
    }
   ],
   "source": [
    "x_train.shape"
   ]
  },
  {
   "cell_type": "code",
   "execution_count": 43,
   "metadata": {},
   "outputs": [],
   "source": [
    "# We extract the significant features of the training set\n",
    "x_train = x_train_brut[:,is_significant]\n",
    "# and of the test set\n",
    "x_test = x_test_brut[:,is_significant]"
   ]
  },
  {
   "cell_type": "code",
   "execution_count": 76,
   "metadata": {},
   "outputs": [
    {
     "name": "stdout",
     "output_type": "stream",
     "text": [
      "Trainning set\n",
      "error rate : 0.0 %\n",
      "Test set\n",
      "error rate : 7.885714285714286 %\n"
     ]
    },
    {
     "data": {
      "text/plain": [
       "7.885714285714286"
      ]
     },
     "execution_count": 76,
     "metadata": {},
     "output_type": "execute_result"
    }
   ],
   "source": [
    "LR = Logistic_Regression()\n",
    "LR.train(x_train, t_train.reshape(-1), Niter=13)\n",
    "print(\"Trainning set\")\n",
    "LR.error_rate(x_train, class_train.reshape(-1))\n",
    "print(\"Test set\")\n",
    "LR.error_rate(x_test, class_test.reshape(-1))"
   ]
  },
  {
   "cell_type": "markdown",
   "metadata": {},
   "source": [
    "We have a very low error for the training set and a hight error for the test set, we may have overtrained our data.\n",
    "Futhermore we have to many data: 375 in comparaison of the model's complexity : 173 parameters"
   ]
  },
  {
   "cell_type": "markdown",
   "metadata": {},
   "source": [
    "### Models with less features"
   ]
  },
  {
   "cell_type": "code",
   "execution_count": 24,
   "metadata": {},
   "outputs": [
    {
     "name": "stdout",
     "output_type": "stream",
     "text": [
      " Pour max_std = 0.1 , on a  239  features significatifs\n",
      " Pour max_std = 0.2 , on a  228  features significatifs\n",
      " Pour max_std = 0.30000000000000004 , on a  203  features significatifs\n",
      " Pour max_std = 0.4 , on a  191  features significatifs\n",
      " Pour max_std = 0.5 , on a  174  features significatifs\n",
      " Pour max_std = 0.6000000000000001 , on a  153  features significatifs\n",
      " Pour max_std = 0.7000000000000001 , on a  123  features significatifs\n",
      " Pour max_std = 0.8 , on a  59  features significatifs\n"
     ]
    },
    {
     "data": {
      "image/png": "[encoded data removed]",
      "text/plain": [
       "<Figure size 432x288 with 1 Axes>"
      ]
     },
     "metadata": {},
     "output_type": "display_data"
    }
   ],
   "source": [
    "def cross_val(K=5):\n",
    "    # Nombre de fold de la cross validation\n",
    "    # Nombre de données total pour les classes 5 et 6\n",
    "    N_5 = 145\n",
    "    N_6 = 200\n",
    "    # nombre de données des classes 5 et 6 par fold\n",
    "    size_5 = N_5//K\n",
    "    size_6 = N_6//K\n",
    "    # Recueil les erreurs moyennes\n",
    "    moyennes_train = []\n",
    "    moyennes_test  = []\n",
    "    # ensemble des écarts-types maximal testés\n",
    "    xstd = [0.1*j for j in range(1,9)]\n",
    "    for max_std in xstd:\n",
    "        # Recueil les erreurs pour un écart type maximal égal à max_std\n",
    "        error_train = []\n",
    "        error_test = []\n",
    "        for i in range(K):\n",
    "\n",
    "            # Ensemble d'entrainement (on doit récupérer chez les 5 et chez les 6)\n",
    "            # les 145 premiers élément sont des 5 les suivants sont des 6\n",
    "            trainset_features_brut = np.vstack((x_train_brut[:i*size_5,:], x_train_brut[(i+1)*size_5:N_5,:],\n",
    "                                 x_train_brut[N_5 :N_5 + i*size_6,:], x_train_brut[N_5 + (i+1)*size_6 :,:]))\n",
    "            # Labels\n",
    "            trainset_labels   = np.ones(N_5 + N_6 - size_5 - size_6)\n",
    "            trainset_labels[:N_5-size_5] = 2\n",
    "    ####        # permet de gérer un PB####\n",
    "            t_labels  = trainset_labels != 2\n",
    "            # Ensemble de test\n",
    "            testset_features_brut = np.vstack((x_train_brut[i*size_5:(i+1)*size_5,:],\n",
    "                                 x_train_brut[N_5 + i*size_6:N_5 + (i+1)*size_6 ,:]))\n",
    "            # labels associés\n",
    "            testset_labels = np.ones(size_5 + size_6)\n",
    "            testset_labels[:size_5] = 2\n",
    "\n",
    "\n",
    "            # On sélectionne les features signicicatifs\n",
    "            is_significant = trainset_features_brut.std(axis=0)>max_std\n",
    "\n",
    "\n",
    "            trainset_features = trainset_features_brut[:,is_significant]\n",
    "            testset_features = testset_features_brut[:,is_significant]\n",
    "            if i == 0:\n",
    "                print(\" Pour max_std =\",max_std,\", on a \", trainset_features.shape[1],\" features significatifs\")\n",
    "            # On effectue la régression logistique\n",
    "            LRcross_val = Logistic_Regression()\n",
    "\n",
    "            LRcross_val.train(trainset_features, t_labels,Niter=7)\n",
    "\n",
    "            # On enregistre les données\n",
    "            error_train.append(LRcross_val.error_rate(trainset_features, trainset_labels, printer=False))\n",
    "            error_test.append(LRcross_val.error_rate(testset_features, testset_labels,printer=False))\n",
    "        # On calcul la moyenne\n",
    "        moyennes_train.append(np.mean(error_train))\n",
    "        moyennes_test.append(np.mean(error_test))\n",
    "    # On affiche le résultat\n",
    "    plot(xstd, moyennes_train, label = \"Train\")\n",
    "    plot(xstd, moyennes_test, label = \"Test\")\n",
    "    legend()\n",
    "cross_val()"
   ]
  },
  {
   "cell_type": "markdown",
   "metadata": {},
   "source": [
    "We could see in the plot, that the error in test set is lower when max_std = 0.6 <br>\n",
    "There 153 features, the model is a little simpler and litter more precise than the previous model <br>\n",
    "When max_std = 0.8, we can see that the model have the same score than the first model, but with only 59 features, it is very simpler.\n"
   ]
  },
  {
   "cell_type": "markdown",
   "metadata": {},
   "source": [
    "### Compare mis- and good- classifed data"
   ]
  },
  {
   "cell_type": "code",
   "execution_count": 25,
   "metadata": {
    "scrolled": true
   },
   "outputs": [
    {
     "data": {
      "image/png": "[encoded data removed]",
      "text/plain": [
       "<Figure size 432x288 with 8 Axes>"
      ]
     },
     "metadata": {},
     "output_type": "display_data"
    }
   ],
   "source": [
    "# misclassified images\n",
    "misclassified = x_test_brut[LR.predict(x_test) != class_test.reshape(-1)]\n",
    "# goodclassified images\n",
    "goodclassified = x_test_brut[LR.predict(x_test) == class_test.reshape(-1)]\n",
    "\n",
    "# Nombre d'images bien et mal classées\n",
    "n_good =  goodclassified.shape[0]\n",
    "n_mis =  misclassified.shape[0]\n",
    "\n",
    "I = reshape(goodclassified[n,:],(16,16))\n",
    "\n",
    "for i in range(4):\n",
    "    # On plot les images bien classées sur la première ligne\n",
    "    plt.subplot(2,4,1 + i)\n",
    "    # On affiche une image aléatoirement\n",
    "    n = np.random.randint(0,n_good)\n",
    "    plt.imshow(reshape(goodclassified[n,:],(16,16)),cmap='gray')\n",
    "    plt.title(\"Good classified\")\n",
    "\n",
    "    # On plot les images mal classées sur la deuxième ligne\n",
    "    plt.subplot(2,4,4 +1+ i)\n",
    "    # On affiche une image aléatoirement\n",
    "    n = np.random.randint(0,n_mis)\n",
    "    plt.imshow(reshape(misclassified[np.random.randint(0,n_mis),:],(16,16)),cmap='gray')\n",
    "    plt.title(\"Miss classified\")\n",
    "plt.show()"
   ]
  },
  {
   "cell_type": "markdown",
   "metadata": {},
   "source": [
    "The image in the misclassified dataset contain more often images who are difficult to classified, that make no suprise. But there is also image who seem perfectly normal. It show that the classifier is not perfect. "
   ]
  },
  {
   "cell_type": "markdown",
   "metadata": {},
   "source": [
    "### Régulation l2"
   ]
  },
  {
   "cell_type": "code",
   "execution_count": 40,
   "metadata": {},
   "outputs": [
    {
     "data": {
      "text/plain": [
       "(345, 174)"
      ]
     },
     "execution_count": 40,
     "metadata": {},
     "output_type": "execute_result"
    }
   ],
   "source": [
    "X.shape"
   ]
  },
  {
   "cell_type": "code",
   "execution_count": 74,
   "metadata": {},
   "outputs": [],
   "source": [
    "def regression_logistique_l2(X, t, Lambda ,Nitermax=20, eps_conv=1e-3):\n",
    "    '''Entrees :\n",
    "    X = [ones(N_train,1) x_train];\n",
    "    t = class_train \n",
    "    Nitermax = nombre maximale d'itérations (20 par défaut)\n",
    "    eps_conv = critère de convergence sur norm(w-w_old)/norm(w) ; \n",
    "    eps_conv=1e-3 par défaut\n",
    "    \n",
    "    Sorties : \n",
    "    w : vecteur des coefficients de régression logistique\n",
    "   Niter : nombre d'itérations utilisées effectivement\n",
    "   \n",
    "   Fonction de régression logistique pour la classification binaire.\n",
    "   \n",
    "   Utilisation :\n",
    "       Nitermax = 50\n",
    "       eps_conv = 1e-4\n",
    "       [w,Niter] = regression_logistique(X,t,Nitermax,eps_conv)\n",
    "    '''\n",
    "    N_train = X.shape[0]\n",
    "\n",
    "    #initialisation : 1 pas de l'algorithme IRLS\n",
    "    w = np.zeros((X.shape[1],))\n",
    "    w_old = w \n",
    "    y = 1/2*np.ones((N_train,)) # sigma(0) = 1/2\n",
    "    R = np.diag(y*(1-y))   # diag(y_n(1-y_n))\n",
    "    w = w_old + la.inv(X.T.dot(R).dot(X) + Lambda*np.eye(X.shape[1])).dot(X.T.dot(y-t) + Lambda*w_old.T)\n",
    "    # boucle appliquant l'algortihme de Newton-Raphson\n",
    "    Niter = 1\n",
    "    while ( (la.norm(w-w_old)/la.norm(w)>eps_conv) & (Niter<Nitermax) ):\n",
    "        Niter = Niter+1\n",
    "        y = 1/(1+np.exp(-X.dot(w)))\n",
    "        R = np.diag(y*(1-y))  # Matrice Hessienne de la fonction coût\n",
    "        w_old = w \n",
    "        # Newton Raphton\n",
    "        w = w_old - la.inv(X.T.dot(R).dot(X) + Lambda*np.eye(X.shape[1])).dot(X.T.dot(y-t) + Lambda*w_old.T)\n",
    "         \n",
    "    return w, Niter\n"
   ]
  },
  {
   "cell_type": "code",
   "execution_count": 78,
   "metadata": {},
   "outputs": [
    {
     "name": "stdout",
     "output_type": "stream",
     "text": [
      "Trainning set\n",
      "error rate : 0.0 %\n",
      "Test set\n",
      "error rate : 7.885714285714286 %\n",
      "Régulation l1\n",
      "Trainning set\n",
      "error rate : 0.0 %\n",
      "Test set\n",
      "error rate : 2.6285714285714286 %\n"
     ]
    },
    {
     "data": {
      "text/plain": [
       "2.6285714285714286"
      ]
     },
     "execution_count": 78,
     "metadata": {},
     "output_type": "execute_result"
    }
   ],
   "source": [
    "LR = Logistic_Regression()\n",
    "LR.train(x_train, t_train.reshape(-1), Niter=13)\n",
    "print(\"Trainning set\")\n",
    "LR.error_rate(x_train, class_train.reshape(-1))\n",
    "print(\"Test set\")\n",
    "LR.error_rate(x_test, class_test.reshape(-1))\n",
    "print(\"Régulation l1\")\n",
    "LR.train_l2(x_train, t_train.reshape(-1),2, Niter=13)\n",
    "print(\"Trainning set\")\n",
    "LR.error_rate(x_train, class_train.reshape(-1))\n",
    "print(\"Test set\")\n",
    "LR.error_rate(x_test, class_test.reshape(-1))"
   ]
  },
  {
   "cell_type": "code",
   "execution_count": 82,
   "metadata": {},
   "outputs": [
    {
     "name": "stdout",
     "output_type": "stream",
     "text": [
      " Pour max_std = 0.1 , on a  174  features significatifs\n",
      " Pour max_std = 0.2 , on a  174  features significatifs\n",
      " Pour max_std = 0.30000000000000004 , on a  174  features significatifs\n",
      " Pour max_std = 0.4 , on a  174  features significatifs\n",
      " Pour max_std = 0.5 , on a  174  features significatifs\n",
      " Pour max_std = 0.6000000000000001 , on a  174  features significatifs\n",
      " Pour max_std = 0.7000000000000001 , on a  174  features significatifs\n",
      " Pour max_std = 0.8 , on a  174  features significatifs\n",
      " Pour max_std = 0.9 , on a  174  features significatifs\n",
      " Pour max_std = 1.0 , on a  174  features significatifs\n",
      " Pour max_std = 1.1 , on a  174  features significatifs\n",
      " Pour max_std = 1.2000000000000002 , on a  174  features significatifs\n",
      " Pour max_std = 1.3 , on a  174  features significatifs\n",
      " Pour max_std = 1.4000000000000001 , on a  174  features significatifs\n",
      " Pour max_std = 1.5 , on a  174  features significatifs\n",
      " Pour max_std = 1.6 , on a  174  features significatifs\n",
      " Pour max_std = 1.7000000000000002 , on a  174  features significatifs\n",
      " Pour max_std = 1.8 , on a  174  features significatifs\n",
      " Pour max_std = 1.9000000000000001 , on a  174  features significatifs\n"
     ]
    },
    {
     "data": {
      "image/png": "[encoded data removed]",
      "text/plain": [
       "<Figure size 432x288 with 1 Axes>"
      ]
     },
     "metadata": {},
     "output_type": "display_data"
    }
   ],
   "source": [
    "def cross_val2(K=5):\n",
    "    # Nombre de fold de la cross validation\n",
    "    # Nombre de données total pour les classes 5 et 6\n",
    "    N_5 = 145\n",
    "    N_6 = 200\n",
    "    # nombre de données des classes 5 et 6 par fold\n",
    "    size_5 = N_5//K\n",
    "    size_6 = N_6//K\n",
    "    # Recueil les erreurs moyennes\n",
    "    moyennes_train = []\n",
    "    moyennes_test  = []\n",
    "    # ensemble des écarts-types maximal testés\n",
    "    lambdas = [0.1*j for j in range(1,20)]\n",
    "    for Lambda in lambdas:\n",
    "        # Recueil les erreurs pour un écart type maximal égal à max_std\n",
    "        error_train = []\n",
    "        error_test = []\n",
    "        for i in range(K):\n",
    "\n",
    "            # Ensemble d'entrainement (on doit récupérer chez les 5 et chez les 6)\n",
    "            # les 145 premiers élément sont des 5 les suivants sont des 6\n",
    "            trainset_features_brut = np.vstack((x_train_brut[:i*size_5,:], x_train_brut[(i+1)*size_5:N_5,:],\n",
    "                                 x_train_brut[N_5 :N_5 + i*size_6,:], x_train_brut[N_5 + (i+1)*size_6 :,:]))\n",
    "            # Labels\n",
    "            trainset_labels   = np.ones(N_5 + N_6 - size_5 - size_6)\n",
    "            trainset_labels[:N_5-size_5] = 2\n",
    "    ####        # permet de gérer un PB####\n",
    "            t_labels  = trainset_labels != 2\n",
    "            # Ensemble de test\n",
    "            testset_features_brut = np.vstack((x_train_brut[i*size_5:(i+1)*size_5,:],\n",
    "                                 x_train_brut[N_5 + i*size_6:N_5 + (i+1)*size_6 ,:]))\n",
    "            # labels associés\n",
    "            testset_labels = np.ones(size_5 + size_6)\n",
    "            testset_labels[:size_5] = 2\n",
    "\n",
    "\n",
    "            # On sélectionne les features signicicatifs\n",
    "            is_significant = trainset_features_brut.std(axis=0)>0.5\n",
    "\n",
    "\n",
    "            trainset_features = trainset_features_brut[:,is_significant]\n",
    "            testset_features = testset_features_brut[:,is_significant]\n",
    "            if i == 0:\n",
    "                print(\" Pour max_std =\",Lambda,\", on a \", trainset_features.shape[1],\" features significatifs\")\n",
    "            # On effectue la régression logistique\n",
    "            LRcross_val = Logistic_Regression()\n",
    "\n",
    "            LRcross_val.train_l2(trainset_features, t_labels,Lambda=Lambda,Niter=7)\n",
    "\n",
    "            # On enregistre les données\n",
    "            error_train.append(LRcross_val.error_rate(trainset_features, trainset_labels, printer=False))\n",
    "            error_test.append(LRcross_val.error_rate(testset_features, testset_labels,printer=False))\n",
    "        # On calcul la moyenne\n",
    "        moyennes_train.append(np.mean(error_train))\n",
    "        moyennes_test.append(np.mean(error_test))\n",
    "    # On affiche le résultat\n",
    "    plot(lambdas, moyennes_train, label = \"Train\")\n",
    "    plot(lambdas, moyennes_test, label = \"Test\")\n",
    "    legend()\n",
    "cross_val2()"
   ]
  },
  {
   "cell_type": "markdown",
   "metadata": {
    "collapsed": true
   },
   "source": [
    "## 3. Logistic regression using `scikit-learn`"
   ]
  },
  {
   "cell_type": "markdown",
   "metadata": {
    "collapsed": true
   },
   "source": [
    "1. **Go to** http://scikit-learn.org/stable/modules/generated/sklearn.linear_model.LogisticRegression.html for a presentation of the logistic regression model in `scikit-learn`.\n",
    "\n",
    "2. **Apply** it to the present data set.\n",
    "\n",
    "3. **Comment** on the use of logistic regression.\n",
    "\n",
    "*Indication : you may have a look at* \n",
    "\n",
    "a) Theory : http://openclassroom.stanford.edu/MainFolder/DocumentPage.php?course=MachineLearning&doc=exercises/ex5/ex5.html\n",
    "\n",
    "b) Video :  https://www.coursera.org/learn/machine-learning/lecture/4BHEy/regularized-logistic-regression \n",
    "\n",
    "c) Example : http://scikit-learn.org/stable/auto_examples/exercises/plot_digits_classification_exercise.html#sphx-glr-auto-examples-exercises-plot-digits-classification-exercise-py\n",
    "\n",
    "*for a short presentation of regularized logistic regression.*"
   ]
  },
  {
   "cell_type": "code",
   "execution_count": 26,
   "metadata": {},
   "outputs": [],
   "source": [
    "# Include your code here\n",
    "from sklearn.linear_model import LogisticRegression\n",
    "# ...\n"
   ]
  },
  {
   "cell_type": "markdown",
   "metadata": {},
   "source": [
    "Commentaires :"
   ]
  },
  {
   "cell_type": "markdown",
   "metadata": {},
   "source": []
  },
  {
   "cell_type": "code",
   "execution_count": null,
   "metadata": {},
   "outputs": [],
   "source": []
  },
  {
   "cell_type": "code",
   "execution_count": null,
   "metadata": {},
   "outputs": [],
   "source": []
  }
 ],
 "metadata": {
  "kernelspec": {
   "display_name": "Python 3",
   "language": "python",
   "name": "python3"
  },
  "language_info": {
   "codemirror_mode": {
    "name": "ipython",
    "version": 3
   },
   "file_extension": ".py",
   "mimetype": "text/x-python",
   "name": "python",
   "nbconvert_exporter": "python",
   "pygments_lexer": "ipython3",
   "version": "3.6.5"
  }
 },
 "nbformat": 4,
 "nbformat_minor": 2
}
