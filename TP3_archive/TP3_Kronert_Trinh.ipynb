{
 "cells": [
  {
   "cell_type": "markdown",
   "metadata": {},
   "source": [
    "## TP3 : Logistic regression\n",
    "\n",
    "The purpose of this tutorial is to implement and use the Logistic Regression for binary classification. We will apply this\n",
    "method to the problem of handwritten characters to learn how to\n",
    "distinguish two numbers (here 5 and 6).\n"
   ]
  },
  {
   "cell_type": "code",
   "execution_count": 1,
   "metadata": {},
   "outputs": [
    {
     "name": "stdout",
     "output_type": "stream",
     "text": [
      "Populating the interactive namespace from numpy and matplotlib\n"
     ]
    },
    {
     "name": "stderr",
     "output_type": "stream",
     "text": [
      "/home/cindy/anaconda3/lib/python3.6/site-packages/IPython/core/magics/pylab.py:160: UserWarning: pylab import has clobbered these variables: ['power', 'fft', 'random', 'linalg', 'info']\n",
      "`%matplotlib` prevents importing * from pylab and numpy\n",
      "  \"\\n`%matplotlib` prevents importing * from pylab and numpy\"\n"
     ]
    }
   ],
   "source": [
    "from pylab import *\n",
    "import numpy as np\n",
    "import matplotlib.pyplot as plt\n",
    "\n",
    "from numpy import linalg as la\n",
    "%pylab inline\n",
    "pylab.rcParams['figure.figsize'] = (15, 8)\n",
    "from sklearn.discriminant_analysis import LinearDiscriminantAnalysis\n",
    "import os\n",
    "#os.chdir(\"U:\\DAD\\ML\\ML_Logistic_Regression-master\\TP3_archive\")"
   ]
  },
  {
   "cell_type": "markdown",
   "metadata": {},
   "source": [
    "## 1. Logistic regression, IRLS algorithm."
   ]
  },
  {
   "cell_type": "markdown",
   "metadata": {},
   "source": [
    "### Preliminary question: the algorithm"
   ]
  },
  {
   "cell_type": "markdown",
   "metadata": {},
   "source": [
    "#### Have a look at the function `regression_logistique.m` and locate the main steps of the algorithm you have been taught (see course).\n",
    "You can comment the code in the cell below."
   ]
  },
  {
   "cell_type": "code",
   "execution_count": 2,
   "metadata": {},
   "outputs": [],
   "source": [
    "def regression_logistique(X,t,Nitermax=20,eps_conv=1e-3):\n",
    "    '''Entrees :\n",
    "    X = [ones(N_train,1) x_train];\n",
    "    t = class_train \n",
    "    Nitermax = nombre maximale d'itérations (20 par défaut)\n",
    "    eps_conv = critère de convergence sur norm(w-w_old)/norm(w) ; \n",
    "    eps_conv=1e-3 par défaut\n",
    "    \n",
    "    Sorties : \n",
    "    w : vecteur des coefficients de régression logistique\n",
    "   Niter : nombre d'itérations utilisées effectivement\n",
    "   \n",
    "   Fonction de régression logistique pour la classification binaire.\n",
    "   \n",
    "   Utilisation :\n",
    "       Nitermax = 50\n",
    "       eps_conv = 1e-4\n",
    "       [w,Niter] = regression_logistique(X,t,Nitermax,eps_conv)\n",
    "    '''\n",
    "    N_train = X.shape[0]\n",
    "\n",
    "    #initialisation : 1 pas de l'algorithme IRLS\n",
    "    w = np.zeros((X.shape[1],))\n",
    "    w_old = w \n",
    "    y = 1/2*np.ones((N_train,)) # sigma(0) = 1/2\n",
    "    R = np.diag(y*(1-y))   # diag(y_n(1-y_n))\n",
    "    z = X.dot(w_old)-la.inv(R).dot(y-t)\n",
    "    w = la.inv(X.T.dot(R).dot(X)).dot(X.T).dot(R).dot(z)\n",
    "    # boucle appliquant l'algortihme de Newton-Raphson\n",
    "    Niter = 1\n",
    "    while ( (la.norm(w-w_old)/la.norm(w)>eps_conv) & (Niter<Nitermax) ):\n",
    "        Niter = Niter+1\n",
    "        y = 1/(1+np.exp(-X.dot(w)))\n",
    "        R = np.diag(y*(1-y))  # Matrice Hessienne de la fonction coût\n",
    "        w_old = w \n",
    "        # Newton Raphton\n",
    "        z = X.dot(w_old)-la.inv(R).dot(y-t) \n",
    "        w = la.inv(X.T.dot(R).dot(X)).dot(X.T).dot(R).dot(z)\n",
    "         \n",
    "    return w, Niter\n"
   ]
  },
  {
   "cell_type": "markdown",
   "metadata": {},
   "source": [
    "## Functions tools"
   ]
  },
  {
   "cell_type": "code",
   "execution_count": 3,
   "metadata": {},
   "outputs": [],
   "source": [
    "add_feature={}\n",
    "\n",
    "def add_quadratic(X):\n",
    "    res = hstack((ones((X.shape[0],1)),X,X**2))\n",
    "    n = X.shape[1]\n",
    "    for i in range(n):\n",
    "        for j in range(i):\n",
    "            res = hstack((res,(X[:,i]*X[:,j]).reshape((-1,1))))\n",
    "    return res\n",
    "\n",
    "add_feature[\"quadratic\"] = add_quadratic\n",
    "add_feature[\"one\"] = lambda X : hstack((ones((X.shape[0],1)),X))\n",
    "\n",
    "def sigma(x):\n",
    "    \"\"\"\n",
    "    Compute the sigmoid value of x\n",
    "    parameters : \n",
    "        - x a float\n",
    "    return :\n",
    "        - 1/(1+exp(-x))\n",
    "    \"\"\"\n",
    "    return 1/(1 + np.exp(-x))\n",
    "\n",
    "def logistic_decision(X,w):\n",
    "    \"\"\"\n",
    "    params:\n",
    "    - X = [ones(N,1) x]\n",
    "    - w = weight matrix \n",
    "    \n",
    "    return:\n",
    "    - prediction : vector of predictions (class 1 or 2)\n",
    "    \"\"\"\n",
    "    sigm_Xw = sigma(X.dot(w))\n",
    "    prediction = np.ones(sigm_Xw.shape)\n",
    "    prediction [sigm_Xw < 0.5] = 2\n",
    "    return prediction\n",
    "\n",
    "\n",
    "def erreur(predicted_labels,real_labels,printer=False):\n",
    "    \"\"\"\n",
    "    compute the errors rate in %\n",
    "    parameters :\n",
    "        - predicted_labels \n",
    "        - real_labels\n",
    "        - printer: if True, print the error rate\n",
    "    \"\"\"\n",
    "    if printer == True :\n",
    "        print(\"error rate :\",100*(predicted_labels!=real_labels).sum()/predicted_labels.shape[0],\"%\")\n",
    "    return 100*(predicted_labels!=real_labels).sum()/predicted_labels.shape[0]"
   ]
  },
  {
   "cell_type": "code",
   "execution_count": 4,
   "metadata": {},
   "outputs": [],
   "source": [
    "def plot_DB_logistic (w,x1min =-2.5 , x1max =1.5, nbpoints =10 ,style='k--'):\n",
    "    \"\"\"\n",
    "    Plot decision boundary line for logistic regression\n",
    "    param :\n",
    "    - w : weight (3,1)\n",
    "\n",
    "    \"\"\"\n",
    "    x1 = np.linspace(x1min,x1max,nbpoints) \n",
    "    x2 = (-w[0]-w[1]*x1)/w[2]\n",
    "    plt.plot(x1,x2,style)\n",
    "    \n",
    "    \n",
    "\n",
    "def plot_prediction_zones_LR(w,add_f=\"one\"):\n",
    "    \"\"\"\n",
    "    plot the decision bondary \n",
    "    parameters :\n",
    "        - w the parameters of the logistic regression\n",
    "    \"\"\"\n",
    "    x_1 = linspace(-2.5,1.5,500)\n",
    "    x_2 = linspace(-1,4,500)\n",
    "    [X1,X2] = meshgrid(x_1,x_2)\n",
    "    grid = c_[X1.ravel(),X2.ravel()]\n",
    "    G = add_feature[add_f](grid)\n",
    "    G_test = (sigma(w.dot(G.T))>0.5)\n",
    "    contourf(X1,X2,G_test.reshape(X1.shape))\n",
    "    \n",
    "    \n",
    "def plot_prediction_zones_LDA(LDA_algo,x2min=-10,x2max=5):\n",
    "    Nx1=100 # number of samples for display\n",
    "    Nx2=100\n",
    "    x1=np.linspace(-2.5,1.5,Nx1)  # sampling of the x1 axis \n",
    "    x2=np.linspace(x2min,x2max,Nx2)  # sampling of the x2 axis\n",
    "    [X1,X2]=np.meshgrid(x1,x2)  \n",
    "    x=np.vstack((X1.flatten('F'),X2.flatten('F'))) # list of the coordinates of points on the grid\n",
    "    class_L = np.array(LDA_algo.predict(x.T))\n",
    "    plt.plot(x[0,class_L==1],x[1,class_L==1],'lightgray',label = \"predict class 1 zone\")\n",
    "    plt.plot(x[0,class_L==2],x[1,class_L==2],'papayawhip',label = \"predict class 2 zone\")"
   ]
  },
  {
   "cell_type": "code",
   "execution_count": 5,
   "metadata": {},
   "outputs": [],
   "source": [
    "def afficher_inference(x,labels,true_labels=None, title = \"Predictions\",):\n",
    "    \"\"\" \n",
    "    plot the points of x (2D), plot the point x[i,:] in blue if labels[i] == 1 and in yellow if labels[i] == 2\n",
    "    \n",
    "    If labels corresponds to labels predicted by an algorithm, we can specify true_labels, and it will plot the wrong \n",
    "    predictions in red*.\n",
    "    \n",
    "    parameters :\n",
    "        - x : points with 2 features (N,2)\n",
    "        - labels : the labels (class 1 or 2) from which we classify the points of x (N,1)\n",
    "        - true_labels : the real labels of the data set (N,1)\n",
    "        - title : string, title of plot\n",
    "    \"\"\"\n",
    "    \n",
    "    plt.title(title)\n",
    "\n",
    "    if str(true_labels) != \"None\": # Si labels correspond à des prédictions d'un algo\n",
    "        plt.plot (x[labels==1,0],x[labels==1,1],'bo',label=\"predicted class 1\")\n",
    "        plt.plot (x[labels==2,0],x[labels==2,1],'yo',label=\"predicted class 2\")\n",
    "        plt.plot (x[true_labels!=labels,0],x[true_labels!=labels,1],'r*', label = \"wrong prediction\")\n",
    "        \n",
    "    else : # Si labels sont par exemple les vrai labels, par ex pour plotter le dataset: \n",
    "        plt.plot (x[labels==1,0],x[labels==1,1],'bo',label=\"class 1\")\n",
    "        plt.plot (x[labels==2,0],x[labels==2,1],'yo',label=\"class 2\")\n",
    "    plt.legend()"
   ]
  },
  {
   "cell_type": "code",
   "execution_count": 6,
   "metadata": {},
   "outputs": [],
   "source": [
    "class Logistic_Regression():\n",
    "    \"\"\" Wrapper for logistic regression method\"\"\"\n",
    "    \n",
    "    def __init__(self,add_feature=\"one\"):\n",
    "        \"\"\"Init the logistic regression methode\n",
    "        parameter:\n",
    "             - add_feature define the type of parameter adding\"\"\"\n",
    "        self.add_f = add_feature\n",
    "        \n",
    "    def train(self, x_train, t_train, Niter = 20, eps = 1e-3):\n",
    "        \"\"\" \n",
    "        Use Logistic regression to compute the parameter who fit the data\n",
    "        parameters :\n",
    "            - x_train training set features\n",
    "            - t_train trainig set labels\n",
    "            - Niter maximal number of iterations\n",
    "        \"\"\"\n",
    "        X = add_feature[self.add_f](x_train)\n",
    "        self.w, Niter = regression_logistique(X, t_train, Niter, eps)\n",
    "    \n",
    "    def train_l2(self, x_train, t_train, Lambda, Niter = 20, eps = 1e-3):\n",
    "        \"\"\" \n",
    "        Use Logistic regression to compute the parameter who fit the data\n",
    "        parameters :\n",
    "            - x_train training set features\n",
    "            - t_train trainig set labels\n",
    "            - Niter maximal number of iterations\n",
    "        \"\"\"\n",
    "        X = add_feature[self.add_f](x_train)\n",
    "        self.w, Niter = regression_logistique_l2(X, t_train,Lambda, Niter, eps)\n",
    "    \n",
    "    def inference(self, x):\n",
    "        \"\"\"\n",
    "        compute the probability that x belong to class 1\n",
    "        \"\"\"\n",
    "        X = add_feature[self.add_f](x)\n",
    "        return sigma(self.w.dot(X.T))\n",
    "    \n",
    "    def predict(self, x):\n",
    "        \"\"\" \n",
    "        decide knowing the features the label of x\n",
    "        parameters :\n",
    "            - x a test set of features\n",
    "        return :\n",
    "            - the predicted classes\n",
    "        \"\"\"\n",
    "        X = add_feature[self.add_f](x)\n",
    "        return logistic_decision(X,self.w)\n",
    "    \n",
    "    def error_rate(self, x ,t,printer=True):\n",
    "        \"\"\" Compute the error rate\"\"\"\n",
    "        y = self.predict(x)\n",
    "        return erreur(y,t,printer=printer)\n",
    "        \n",
    "    \n",
    "    def plot_result(self, x,t,title=\"Predictions\"):\n",
    "        \"\"\" Plot the results\n",
    "             - decision boundary\n",
    "             - predicted classes\n",
    "             - error rate\"\"\"\n",
    "        y = self.predict(x)\n",
    "        plot_prediction_zones_LR(self.w,add_f=self.add_f)\n",
    "        afficher_inference(x,y,true_labels=t, title = title,)\n",
    "        erreur(y,t,printer=True)\n"
   ]
  },
  {
   "cell_type": "markdown",
   "metadata": {},
   "source": [
    "### Reading & preparing synthetic data\n",
    "\n",
    "Load the training and test data sets `synth_train.txt`\n",
    "and `synth_test.txt`. The targets t belong to {1,2} and the features  \n",
    "x belong to R^2. \n",
    "\n",
    "We have 100 training samples and 200 test samples\n",
    "\n",
    "* the 1st column contains the label of each sample, \n",
    "* columns 2 and 3 contain the coordinate of each point."
   ]
  },
  {
   "cell_type": "code",
   "execution_count": 7,
   "metadata": {},
   "outputs": [
    {
     "data": {
      "image/png": "[encoded data removed]",
      "text/plain": [
       "<Figure size 432x288 with 2 Axes>"
      ]
     },
     "metadata": {},
     "output_type": "display_data"
    }
   ],
   "source": [
    "# Training set\n",
    "synth_train = np.loadtxt('synth_train.txt') \n",
    "class_train = synth_train[:,0]\n",
    "class_train_1 = np.where(synth_train[:,0]==1)[0]\n",
    "class_train_2 = np.where(synth_train[:,0]==2)[0]\n",
    "x_train = synth_train[:,1:]\n",
    "N_train = np.size(x_train,axis=0)\n",
    "\n",
    "# Test set\n",
    "synth_test = np.loadtxt('synth_test.txt')\n",
    "class_test = synth_test[:,0]\n",
    "class_test_1 = np.where(synth_test[:,0]==1)[0]\n",
    "class_test_2 = np.where(synth_test[:,0]==2)[0]\n",
    "x_test = synth_test[:,1:]\n",
    "N_test = np.size(x_test,axis=0)\n",
    "\n",
    "\n",
    "plt.subplot(121)\n",
    "afficher_inference(x_train,class_train,true_labels=None, title = \"Data training set\",)\n",
    "\n",
    "plt.subplot(122)\n",
    "afficher_inference(x_test,class_test,true_labels=None, title = \"Data test set\",)"
   ]
  },
  {
   "cell_type": "markdown",
   "metadata": {},
   "source": [
    "We can approximately separate the points with a straight line well, and the points are not too far from each other (in the frontier, there are points of both class 1 and 2) so using logistic regression is interesting.\n",
    "LDA and QDA could also be used."
   ]
  },
  {
   "cell_type": "markdown",
   "metadata": {},
   "source": [
    "### Preparing features for logistic regression (binary classification)\n",
    "First, we prepare the feature matrix and the target vector associated to \n",
    "the training and test sets:\n"
   ]
  },
  {
   "cell_type": "code",
   "execution_count": 8,
   "metadata": {},
   "outputs": [],
   "source": [
    "X = np.hstack((np.ones((N_train,1)),x_train))\n",
    "t = 2-class_train   # 0 if class=2, 1 if class=1\n",
    "\n",
    "X_test = np.hstack((np.ones((N_test,1)),x_test))\n",
    "t_test = 2-class_test   # 0 if class=2, 1 if class=1\n"
   ]
  },
  {
   "cell_type": "markdown",
   "metadata": {},
   "source": [
    "### Exercise 1 : the logistic function of decision\n",
    "\n",
    "1. Use the function `regression_logistique.m` to estimate the logistic\n",
    "regression vector `w`. *Indication : use `Nitermax = 50;\n",
    "eps_conv=1e-3;`.*\n",
    "2. Compute the decision function $f(x) = argmax_k P(C_k|x)$ on the test set\n",
    "to get the classification results. Recall that $y_n=\\sigma(w^T x)$ (logistic function)\n",
    "and that *using vectors* you may directly write $y=\\sigma(Xw)$, with the\n",
    "column of ones in X.\n",
    "3. Display the results by plotting the points from both the training set\n",
    "and the test set.\n",
    "4. Write the equation which defines the decision boundary.\n",
    "5. Artificially add a few points to the training set far from the decision boundary to check the robustness of logistic regression to outliers. Check the behaviour of LDA for comparison in this case and comment. \n"
   ]
  },
  {
   "cell_type": "code",
   "execution_count": 9,
   "metadata": {},
   "outputs": [
    {
     "name": "stdout",
     "output_type": "stream",
     "text": [
      "Trainig set\n",
      "error rate : 3.0 %\n",
      "Test set\n",
      "error rate : 6.0 %\n"
     ]
    },
    {
     "data": {
      "image/png": "[encoded data removed]",
      "text/plain": [
       "<Figure size 432x288 with 2 Axes>"
      ]
     },
     "metadata": {},
     "output_type": "display_data"
    }
   ],
   "source": [
    "#Exercise 1\n",
    "LR = Logistic_Regression()\n",
    "LR.train(x_train, t)\n",
    "\n",
    "plt.subplot(121)\n",
    "print(\"Trainig set\")\n",
    "LR.plot_result(x_train, class_train,title=\"Predictions training set\")\n",
    "plot_DB_logistic(LR.w)\n",
    "\n",
    "plt.subplot(122)\n",
    "print(\"Test set\")\n",
    "LR.plot_result(x_test, class_test,title=\"Predictions test set\")\n",
    "plot_DB_logistic(LR.w)"
   ]
  },
  {
   "cell_type": "markdown",
   "metadata": {},
   "source": [
    "A point X = (x,y) is in the decision boundary if <br>\n",
    "    $sigmoid(X,w) = 0.5 <=> Xw = 0 , <=> $ y = - $\\frac{w_0 + w_1 x }{w_2} $"
   ]
  },
  {
   "cell_type": "markdown",
   "metadata": {},
   "source": [
    "#### Robustness to outliers"
   ]
  },
  {
   "cell_type": "code",
   "execution_count": 10,
   "metadata": {},
   "outputs": [
    {
     "data": {
      "image/png": "[encoded data removed]",
      "text/plain": [
       "<Figure size 432x288 with 1 Axes>"
      ]
     },
     "metadata": {},
     "output_type": "display_data"
    }
   ],
   "source": [
    "## Construct new data with outliers\n",
    "\n",
    "# Outliers: 1st column is class, 2nd and 3rd are features\n",
    "synth_outliers = np.array([[2, -2, -10],\n",
    "                            [2, -1,-10]]) \n",
    "\n",
    "# Training set with outliers\n",
    "synth_train_outliers = np.concatenate((synth_train,synth_outliers))\n",
    "\n",
    "class_train_outliers = synth_train_outliers[:,0]\n",
    "x_train_outliers = synth_train_outliers[:,1:]\n",
    "\n",
    "t_outliers = 2-class_train_outliers   # 0 if class=2, 1 if class=1\n",
    "\n",
    "\n",
    "N_train_outliers = np.size(x_train_outliers,axis=0)\n",
    "\n",
    "X_outliers = add_feature[\"one\"](x_train_outliers)\n",
    "#X_outliers = np.hstack((np.ones((N_train_outliers,1)),x_train_outliers))\n",
    "t_outliers = 2-class_train_outliers   # 0 if class=2, 1 if class=1\n",
    "\n",
    "afficher_inference(x_train_outliers,class_train_outliers,title=\"Data training set with outliers\")"
   ]
  },
  {
   "cell_type": "code",
   "execution_count": 11,
   "metadata": {},
   "outputs": [],
   "source": [
    "##Logistic regression\n",
    "#no outliers\n",
    "w, Niter = regression_logistique(X, t,Nitermax=50, eps_conv=1e-3)\n",
    "prediction_train = logistic_decision (X,w)\n",
    "#with outliers\n",
    "w_outliers, Niter = regression_logistique(X_outliers, t_outliers,Nitermax=50, eps_conv=1e-3)\n",
    "prediction_train_outliers= logistic_decision (X_outliers,w_outliers)\n",
    "\n",
    "\n",
    "\n",
    "## LDA \n",
    "#no outliers\n",
    "LDA = LinearDiscriminantAnalysis()\n",
    "LDA.fit(x_train,class_train)\n",
    "LDA_prediction_train = LDA.predict(x_train)\n",
    "#with outliers\n",
    "LDA_outliers = LinearDiscriminantAnalysis()\n",
    "LDA_outliers.fit(x_train_outliers,class_train_outliers)\n",
    "LDA_prediction_train_outliers = LDA_outliers.predict(x_train_outliers)"
   ]
  },
  {
   "cell_type": "code",
   "execution_count": 12,
   "metadata": {},
   "outputs": [
    {
     "name": "stdout",
     "output_type": "stream",
     "text": [
      "Error rate training set Logistic regresion no outliers: 3.0 %\n",
      "Error rate training set Logistic with outliers: 2.9411764705882355 %\n",
      "Error rate training set LDA no outliers: 3.0 %\n",
      "Error rate training set LDA with outliers: 8.823529411764707 %\n"
     ]
    },
    {
     "data": {
      "image/png": "[encoded data removed]",
      "text/plain": [
       "<Figure size 432x288 with 4 Axes>"
      ]
     },
     "metadata": {},
     "output_type": "display_data"
    }
   ],
   "source": [
    "##Logistic regresion \n",
    "#no outliers\n",
    "print(\"Error rate training set Logistic regresion no outliers:\", erreur(prediction_train,class_train),\"%\")\n",
    "plt.subplot(221)\n",
    "afficher_inference (x_train,prediction_train,title = \"Predictions training set no outliers\",\n",
    "                    true_labels = class_train)\n",
    "plot_DB_logistic(w)\n",
    "\n",
    "#with outliers\n",
    "print(\"Error rate training set Logistic with outliers:\",erreur(prediction_train_outliers,class_train_outliers),\"%\")\n",
    "plt.subplot(223)\n",
    "afficher_inference (x_train_outliers,prediction_train_outliers,\n",
    "                    title = \"Predictions training set logistic with outliers\", true_labels = class_train_outliers)\n",
    "plot_DB_logistic(w_outliers)\n",
    "\n",
    "\n",
    "##LDA \n",
    "#no outliers\n",
    "print(\"Error rate training set LDA no outliers:\",erreur(LDA_prediction_train,class_train),\"%\")\n",
    "plt.subplot(222)\n",
    "plot_prediction_zones_LDA(LDA,x2min =-0.5, x2max=5)#plot predictions zones (ie decision boundaries)\n",
    "afficher_inference (x_train,LDA_prediction_train,\n",
    "                    title =\"Predictions training set LDA no outliers\", true_labels = class_train)\n",
    "\n",
    "#with outliers\n",
    "print(\"Error rate training set LDA with outliers:\",erreur(LDA_prediction_train_outliers,class_train_outliers),\"%\")\n",
    "plt.subplot(224)\n",
    "plot_prediction_zones_LDA(LDA_outliers)#plot predictions zones\n",
    "afficher_inference (x_train_outliers,LDA_prediction_train_outliers,\n",
    "                    title = \"Predictions training set LDA with outliers\", true_labels = class_train_outliers)"
   ]
  },
  {
   "cell_type": "markdown",
   "metadata": {},
   "source": [
    "We can see that with logistic regression, the line does not even change, whereas with LDA, the line is very affected by the outliers. This is because outliers don't have a big weight in the logistic regression."
   ]
  },
  {
   "cell_type": "markdown",
   "metadata": {},
   "source": [
    "#### Adding quadratic features"
   ]
  },
  {
   "cell_type": "code",
   "execution_count": 13,
   "metadata": {},
   "outputs": [
    {
     "name": "stdout",
     "output_type": "stream",
     "text": [
      "error rate : 3.0 %\n",
      "error rate : 5.5 %\n"
     ]
    },
    {
     "data": {
      "image/png": "[encoded data removed]",
      "text/plain": [
       "<Figure size 432x288 with 2 Axes>"
      ]
     },
     "metadata": {},
     "output_type": "display_data"
    }
   ],
   "source": [
    "LRq = Logistic_Regression(add_feature=\"quadratic\")\n",
    "LRq.train(x_train, t)\n",
    "subplot(121)\n",
    "LRq.plot_result(x_train, class_train,title=\"prediction on train set\")\n",
    "subplot(122)\n",
    "LRq.plot_result(x_test, class_test,title=\"prediction on test set\")"
   ]
  },
  {
   "cell_type": "markdown",
   "metadata": {},
   "source": [
    "Adding quadratic features is not very useful here because the data can be separated by a straight line. Adding quadratic features would just overfit the data."
   ]
  },
  {
   "cell_type": "markdown",
   "metadata": {},
   "source": [
    "## 2. Application: handwritten digits recognition 5 & 6\n",
    "We load 2 matrices which contain each a sequence of examples of 16x16 images \n",
    "of handwritten digits which are 5 and 6 here. Each line of the matrix\n",
    "contains 256 pixel values coding for the gray level of a 16x16 image."
   ]
  },
  {
   "cell_type": "code",
   "execution_count": 14,
   "metadata": {},
   "outputs": [],
   "source": [
    "train_5 = np.loadtxt('train_5.txt',delimiter=',')   # 556 samples\n",
    "train_6 = np.loadtxt('train_6.txt',delimiter=',')   # 664 samples"
   ]
  },
  {
   "cell_type": "markdown",
   "metadata": {},
   "source": [
    "### Examples of images\n"
   ]
  },
  {
   "cell_type": "code",
   "execution_count": 15,
   "metadata": {},
   "outputs": [
    {
     "name": "stderr",
     "output_type": "stream",
     "text": [
      "/home/cindy/anaconda3/lib/python3.6/site-packages/matplotlib/cbook/deprecation.py:107: MatplotlibDeprecationWarning: Adding an axes using the same arguments as a previous axes currently reuses the earlier instance.  In a future version, a new instance will always be created and returned.  Meanwhile, this warning can be suppressed, and the future behavior ensured, by passing a unique label to each axes instance.\n",
      "  warnings.warn(message, mplDeprecation, stacklevel=1)\n"
     ]
    },
    {
     "data": {
      "image/png": "[encoded data removed]",
      "text/plain": [
       "<Figure size 432x288 with 9 Axes>"
      ]
     },
     "metadata": {},
     "output_type": "display_data"
    }
   ],
   "source": [
    "for n in range(5):\n",
    "    plt.subplot(1,10,n+1)\n",
    "    n=n \n",
    "    I = reshape(train_5[n,:],(16,16))\n",
    "    plt.imshow(I,cmap='gray')\n",
    "    \n",
    "for n in range(5):\n",
    "    plt.subplot(1,10,n+5)\n",
    "    n=n\n",
    "    I = reshape(train_6[n,:],(16,16))\n",
    "    plt.imshow(I,cmap='gray')"
   ]
  },
  {
   "cell_type": "markdown",
   "metadata": {},
   "source": [
    "### Separating the training and test sets\n",
    "\n",
    "We keep in the training set the 145 first images of 5s and the 200 first\n",
    "images of 6s:\n"
   ]
  },
  {
   "cell_type": "code",
   "execution_count": 16,
   "metadata": {},
   "outputs": [],
   "source": [
    "x_train_brut = np.vstack((train_5[:145,:], train_6[:200,:]))\n",
    "N_train = np.size(x_train_brut,axis=0)\n",
    "class_train = np.ones((345,1))   # label 1 for digit 6\n",
    "class_train[:145] = 2      # label 2 for digit 5, it allow to use function from part one\n",
    "\n",
    "x_test_brut = np.vstack((train_5[145:,:], train_6[200:,:]))\n",
    "N_test = np.size(train_5,axis=0)+np.size(train_6,axis=0)-N_train\n",
    "class_test = np.ones((N_test,1))\n",
    "class_test[:556-145] = 2\n",
    "\n",
    "t_train = class_train != 2 "
   ]
  },
  {
   "cell_type": "markdown",
   "metadata": {},
   "source": [
    "## Exercise 2: logistic regression to classify 5 & 6\n",
    "\n",
    "1. Note that pixel values are between -1 and 1 by using the functions\n",
    " `min(I(:))` and `max(I(:))`.\n",
    "2. Identify the indices of the most significant pixels, which are defined \n",
    "as having a standard deviation greater than 0.5 here. We denote by `lis_sig`\n",
    "the list of positions of these significant pixels in the image vector.\n",
    "_Indication : the function `std` gives the standard deviation (columnwise\n",
    "in matrices) and you should find 173 pixel positions.\n",
    "3. Show a binary image to locate these pixels.\n",
    "_Indication : `Isig = zeros(16); Isig(list_sig)=1; Isig=Isig';`._\n",
    "4. Define the training set `x_train` from `x_train_brut` from the significant pixels only.\n",
    "5. Do the same with `x_test_brut` to extract `x_test`.\n",
    "6. Use `regression_logistique.m` to estimate the logistic regression vector\n",
    "`w` from the training set `x_train`. \n",
    "Choose `Nitermax = 13; eps_conv = 1e-3;`\n",
    "7. Compute the decision function and the labels of the test set `x_test`. \n",
    "_Indication : do not forget the column of ones !_\n",
    "8. Estimate the classification error rate by using :\n",
    "`erreur = sum(abs(class-class_test))/N_test;`.\n",
    "9. Locate some misclassified examples and visualize the corresponding image.\n",
    "Comment on your results and observations.\n"
   ]
  },
  {
   "cell_type": "code",
   "execution_count": 17,
   "metadata": {},
   "outputs": [
    {
     "name": "stdout",
     "output_type": "stream",
     "text": [
      "the pixels values are between -1 and 1: -1.0 1.0\n"
     ]
    },
    {
     "data": {
      "text/plain": [
       "Text(0.5,1,'Standard deviation of pixels')"
      ]
     },
     "execution_count": 17,
     "metadata": {},
     "output_type": "execute_result"
    },
    {
     "data": {
      "image/png": "[encoded data removed]",
      "text/plain": [
       "<Figure size 432x288 with 1 Axes>"
      ]
     },
     "metadata": {},
     "output_type": "display_data"
    }
   ],
   "source": [
    "# Exercise 2\n",
    "print(\"the pixels values are between -1 and 1:\", np.min(I),np.max(I))\n",
    "\n",
    "\n",
    "std = x_train_brut.std(axis=0).reshape((16,16)) # compute the standard deviation of each pixel\n",
    "imshow(std,cmap='gray')\n",
    "title(\"Standard deviation of pixels\")"
   ]
  },
  {
   "cell_type": "markdown",
   "metadata": {},
   "source": [
    "###### A pixel is significant if the standard deviation > 0.5"
   ]
  },
  {
   "cell_type": "code",
   "execution_count": 18,
   "metadata": {},
   "outputs": [
    {
     "name": "stdout",
     "output_type": "stream",
     "text": [
      "We will consider 173 significant pixels\n"
     ]
    },
    {
     "data": {
      "text/plain": [
       "Text(0.5,1,'Significant pixels')"
      ]
     },
     "execution_count": 18,
     "metadata": {},
     "output_type": "execute_result"
    },
    {
     "data": {
      "image/png": "[encoded data removed]",
      "text/plain": [
       "<Figure size 432x288 with 1 Axes>"
      ]
     },
     "metadata": {},
     "output_type": "display_data"
    }
   ],
   "source": [
    "is_significant = x_train_brut.std(axis=0)>0.5 # pixels with standart deviation greater than 0.5\n",
    "print(f\"We will consider { is_significant.sum()} significant pixels\")\n",
    "\n",
    "\n",
    "imshow(is_significant.reshape((16,16)),cmap='gray')\n",
    "title(\"Significant pixels\")"
   ]
  },
  {
   "cell_type": "markdown",
   "metadata": {},
   "source": [
    "As expected, in the edges, the pixels are not relevant (they are all black for almost every image)"
   ]
  },
  {
   "cell_type": "code",
   "execution_count": 19,
   "metadata": {},
   "outputs": [],
   "source": [
    "# We extract the significant features of the training set\n",
    "x_train = x_train_brut[:,is_significant]\n",
    "# and of the test set\n",
    "x_test = x_test_brut[:,is_significant]"
   ]
  },
  {
   "cell_type": "code",
   "execution_count": 20,
   "metadata": {},
   "outputs": [
    {
     "name": "stdout",
     "output_type": "stream",
     "text": [
      "Training set\n",
      "error rate : 0.0 %\n",
      "Test set\n",
      "error rate : 7.885714285714286 %\n"
     ]
    }
   ],
   "source": [
    "LR = Logistic_Regression()\n",
    "LR.train(x_train, t_train.reshape(-1), Niter=13)\n",
    "print(\"Training set\")\n",
    "e = LR.error_rate(x_train, class_train.reshape(-1))\n",
    "print(\"Test set\")\n",
    "e = LR.error_rate(x_test, class_test.reshape(-1))"
   ]
  },
  {
   "cell_type": "markdown",
   "metadata": {},
   "source": [
    "We have a very low error for the training set and a high error for the test set, we may have overfitted our data.\n",
    "Futhermore we don't have enough data: 375 in comparaison of the model's complexity : 173 parameters <br> A good way to perform better would be to add regularization.\n"
   ]
  },
  {
   "cell_type": "markdown",
   "metadata": {},
   "source": [
    "##### Model with less features : optimizing the hyperparameter of the standard deviation"
   ]
  },
  {
   "cell_type": "markdown",
   "metadata": {},
   "source": [
    "In the previous section, we said that a pixel is significant when the standard deviation > 0.5. Let's try other values instead of 0.5, and choose a better hyperparameter through cross validation"
   ]
  },
  {
   "cell_type": "code",
   "execution_count": 21,
   "metadata": {},
   "outputs": [
    {
     "name": "stdout",
     "output_type": "stream",
     "text": [
      " Pour max_std = 0.1 , on a  239  features significatifs\n",
      " Pour max_std = 0.2 , on a  228  features significatifs\n",
      " Pour max_std = 0.30000000000000004 , on a  203  features significatifs\n",
      " Pour max_std = 0.4 , on a  191  features significatifs\n",
      " Pour max_std = 0.5 , on a  174  features significatifs\n",
      " Pour max_std = 0.6000000000000001 , on a  153  features significatifs\n",
      " Pour max_std = 0.7000000000000001 , on a  123  features significatifs\n",
      " Pour max_std = 0.8 , on a  59  features significatifs\n"
     ]
    },
    {
     "data": {
      "image/png": "[encoded data removed]",
      "text/plain": [
       "<Figure size 432x288 with 1 Axes>"
      ]
     },
     "metadata": {},
     "output_type": "display_data"
    }
   ],
   "source": [
    "def cross_val(K=5):\n",
    "    # Nombre de fold de la cross validation\n",
    "    # Nombre de données total pour les classes 5 et 6\n",
    "    N_5 = 145\n",
    "    N_6 = 200\n",
    "    # nombre de données des classes 5 et 6 par fold\n",
    "    size_5 = N_5//K\n",
    "    size_6 = N_6//K\n",
    "    # Recueil les erreurs moyennes\n",
    "    moyennes_train = []\n",
    "    moyennes_test  = []\n",
    "    # ensemble des écarts-types maximal testés\n",
    "    xstd = [0.1*j for j in range(1,9)]\n",
    "    for max_std in xstd:\n",
    "        # Recueil les erreurs pour un écart type maximal égal à max_std\n",
    "        error_train = []\n",
    "        error_test = []\n",
    "        for i in range(K):\n",
    "\n",
    "            # Ensemble d'entrainement (on doit récupérer chez les 5 et chez les 6)\n",
    "            # les 145 premiers élément sont des 5 les suivants sont des 6\n",
    "            trainset_features_brut = np.vstack((x_train_brut[:i*size_5,:], x_train_brut[(i+1)*size_5:N_5,:],\n",
    "                                 x_train_brut[N_5 :N_5 + i*size_6,:], x_train_brut[N_5 + (i+1)*size_6 :,:]))\n",
    "            # Labels\n",
    "            trainset_labels   = np.ones(N_5 + N_6 - size_5 - size_6)\n",
    "            trainset_labels[:N_5-size_5] = 2\n",
    "    ####        # permet de gérer un PB####\n",
    "            t_labels  = trainset_labels != 2\n",
    "            # Ensemble de validation\n",
    "            testset_features_brut = np.vstack((x_train_brut[i*size_5:(i+1)*size_5,:],\n",
    "                                 x_train_brut[N_5 + i*size_6:N_5 + (i+1)*size_6 ,:]))\n",
    "            # labels associés\n",
    "            testset_labels = np.ones(size_5 + size_6)\n",
    "            testset_labels[:size_5] = 2\n",
    "\n",
    "\n",
    "            # On sélectionne les features signicicatifs\n",
    "            is_significant = trainset_features_brut.std(axis=0)>max_std\n",
    "\n",
    "\n",
    "            trainset_features = trainset_features_brut[:,is_significant]\n",
    "            testset_features = testset_features_brut[:,is_significant]\n",
    "            if i == 0:\n",
    "                print(\" Pour max_std =\",max_std,\", on a \", trainset_features.shape[1],\" features significatifs\")\n",
    "            # On effectue la régression logistique\n",
    "            LRcross_val = Logistic_Regression()\n",
    "\n",
    "            LRcross_val.train(trainset_features, t_labels,Niter=7)\n",
    "\n",
    "            # On enregistre les données\n",
    "            error_train.append(LRcross_val.error_rate(trainset_features, trainset_labels, printer=False))\n",
    "            error_test.append(LRcross_val.error_rate(testset_features, testset_labels,printer=False))\n",
    "        # On calcul la moyenne\n",
    "        moyennes_train.append(np.mean(error_train))\n",
    "        moyennes_test.append(np.mean(error_test))\n",
    "    # On affiche le résultat\n",
    "    plot(xstd, moyennes_train, label = \"Train\")\n",
    "    plot(xstd, moyennes_test, label = \"Validation\")\n",
    "    legend()\n",
    "cross_val()"
   ]
  },
  {
   "cell_type": "markdown",
   "metadata": {},
   "source": [
    "We can see in the plot, that the error in test set is the lowest when max_std = 0.6 <br>\n",
    "When max_std = 0.6, there are 153 features, the model is a little simpler and litter more precise than the previous model <br>\n",
    "When max_std = 0.8, we can see that the model has the same score than the first model, but with only 59 features, it is way simpler."
   ]
  },
  {
   "cell_type": "code",
   "execution_count": 22,
   "metadata": {},
   "outputs": [
    {
     "name": "stdout",
     "output_type": "stream",
     "text": [
      "We will consider 154 significant pixels\n",
      "Training set\n",
      "error rate : 0.0 %\n",
      "Test set\n",
      "error rate : 8.228571428571428 %\n"
     ]
    }
   ],
   "source": [
    "#Through cross validation, we set the optimized std:\n",
    "optimized_std = 0.6\n",
    "is_significant_opt = x_train_brut.std(axis=0)>optimized_std # pixels with standart deviation greater than 0.5\n",
    "print(f\"We will consider { is_significant_opt.sum()} significant pixels\")\n",
    "\n",
    "# We extract the significant features of the training set\n",
    "x_train_opt = x_train_brut[:,is_significant_opt]\n",
    "# and of the test set\n",
    "x_test_opt = x_test_brut[:,is_significant_opt]\n",
    "\n",
    "\n",
    "LR = Logistic_Regression()\n",
    "LR.train(x_train_opt, t_train.reshape(-1), Niter=13)\n",
    "print(\"Training set\")\n",
    "e = LR.error_rate(x_train_opt, class_train.reshape(-1))\n",
    "print(\"Test set\")\n",
    "e = LR.error_rate(x_test_opt, class_test.reshape(-1))"
   ]
  },
  {
   "cell_type": "markdown",
   "metadata": {},
   "source": [
    "We actually have a worse error rate than with 0.5, the value before. The error rate is not that different so it's okay. Of course, cross validation doesn't necessarily give the best value since we validate on a validation set, and not on the test set itself. In practice, we would not know that 0.5 would be better than 0.6, so we would have taken 0.6, which is a better choice than 0.2 or 0.9."
   ]
  },
  {
   "cell_type": "markdown",
   "metadata": {},
   "source": [
    "### Compare mis- and good- classifed data"
   ]
  },
  {
   "cell_type": "code",
   "execution_count": 23,
   "metadata": {
    "scrolled": false
   },
   "outputs": [
    {
     "name": "stdout",
     "output_type": "stream",
     "text": [
      "803 72\n"
     ]
    },
    {
     "data": {
      "image/png": "[encoded data removed]",
      "text/plain": [
       "<Figure size 432x288 with 8 Axes>"
      ]
     },
     "metadata": {},
     "output_type": "display_data"
    }
   ],
   "source": [
    "# misclassified images\n",
    "misclassified = x_test_brut[LR.predict(x_test_opt) != class_test.reshape(-1)]\n",
    "# goodclassified images\n",
    "goodclassified = x_test_brut[LR.predict(x_test_opt) == class_test.reshape(-1)]\n",
    "\n",
    "# Nombre d'images bien et mal classées\n",
    "n_good =  goodclassified.shape[0]\n",
    "n_mis =  misclassified.shape[0]\n",
    "print(n_good,n_mis)\n",
    "#I = reshape(goodclassified[n,:],(16,16))\n",
    "\n",
    "for i in range(4):\n",
    "    # On plot les images bien classées sur la première ligne\n",
    "    plt.subplot(2,4,1 + i)\n",
    "    # On affiche une image aléatoirement\n",
    "    n = np.random.randint(0,n_good)\n",
    "    plt.imshow(reshape(goodclassified[n,:],(16,16)),cmap='gray')\n",
    "    plt.title(\"Good classified\")\n",
    "\n",
    "    # On plot les images mal classées sur la deuxième ligne\n",
    "    plt.subplot(2,4,4 +1+ i)\n",
    "    # On affiche une image aléatoirement\n",
    "    n = np.random.randint(0,n_mis)\n",
    "    plt.imshow(reshape(misclassified[np.random.randint(0,n_mis),:],(16,16)),cmap='gray')\n",
    "    plt.title(\"Misclassified\")\n",
    "plt.show()"
   ]
  },
  {
   "cell_type": "markdown",
   "metadata": {},
   "source": [
    "The image in the misclassified dataset contain more often images which are difficult to classify, that makes no suprise. But there are also images who seem perfectly normal. It shows that the classifier does not perform very well. As we saw earlier, the classifier has overfitted our training set. Let's try to put some regularization. "
   ]
  },
  {
   "cell_type": "markdown",
   "metadata": {},
   "source": [
    "### l2 Regularization\n"
   ]
  },
  {
   "cell_type": "code",
   "execution_count": 24,
   "metadata": {},
   "outputs": [],
   "source": [
    "def regression_logistique_l2(X, t, Lambda ,Nitermax=20, eps_conv=1e-3):\n",
    "    '''Entrees :\n",
    "    X = [ones(N_train,1) x_train];\n",
    "    t = class_train \n",
    "    Nitermax = nombre maximale d'itérations (20 par défaut)\n",
    "    eps_conv = critère de convergence sur norm(w-w_old)/norm(w) ; \n",
    "    eps_conv=1e-3 par défaut\n",
    "    \n",
    "    Sorties : \n",
    "    w : vecteur des coefficients de régression logistique\n",
    "   Niter : nombre d'itérations utilisées effectivement\n",
    "   \n",
    "   Fonction de régression logistique pour la classification binaire.\n",
    "   \n",
    "   Utilisation :\n",
    "       Nitermax = 50\n",
    "       eps_conv = 1e-4\n",
    "       [w,Niter] = regression_logistique(X,t,Nitermax,eps_conv)\n",
    "    '''\n",
    "    N_train = X.shape[0]\n",
    "\n",
    "    #initialisation : 1 pas de l'algorithme IRLS\n",
    "    w = np.zeros((X.shape[1],))\n",
    "    w_old = w \n",
    "    y = 1/2*np.ones((N_train,)) # sigma(0) = 1/2\n",
    "    R = np.diag(y*(1-y))   # diag(y_n(1-y_n))\n",
    "    w = w_old + la.inv(X.T.dot(R).dot(X) + Lambda*np.eye(X.shape[1])).dot(X.T.dot(y-t) + Lambda*w_old.T)\n",
    "    # boucle appliquant l'algortihme de Newton-Raphson\n",
    "    Niter = 1\n",
    "    while ( (la.norm(w-w_old)/la.norm(w)>eps_conv) & (Niter<Nitermax) ):\n",
    "        Niter = Niter+1\n",
    "        y = 1/(1+np.exp(-X.dot(w)))\n",
    "        R = np.diag(y*(1-y))  # Matrice Hessienne de la fonction coût\n",
    "        w_old = w \n",
    "        # Newton Raphton\n",
    "        w = w_old - la.inv(X.T.dot(R).dot(X) + Lambda*np.eye(X.shape[1])).dot(X.T.dot(y-t) + Lambda*w_old.T)\n",
    "         \n",
    "    return w, Niter\n"
   ]
  },
  {
   "cell_type": "code",
   "execution_count": 25,
   "metadata": {},
   "outputs": [
    {
     "name": "stdout",
     "output_type": "stream",
     "text": [
      "no regularization:\n",
      "Training set:\n",
      "error rate : 0.0 %\n",
      "Test set\n",
      "error rate : 7.885714285714286 %\n",
      "\n",
      " l2 regularization:\n",
      "Training set:\n",
      "error rate : 0.0 %\n",
      "Test set\n",
      "error rate : 2.6285714285714286 %\n"
     ]
    }
   ],
   "source": [
    "LR = Logistic_Regression()\n",
    "print(\"no regularization:\")\n",
    "LR.train(x_train, t_train.reshape(-1), Niter=13)\n",
    "print(\"Training set:\")\n",
    "LR.error_rate(x_train, class_train.reshape(-1))\n",
    "print(\"Test set\")\n",
    "LR.error_rate(x_test, class_test.reshape(-1))\n",
    "\n",
    "\n",
    "print(\"\\n l2 regularization:\")\n",
    "LR.train_l2(x_train, t_train.reshape(-1),2, Niter=13)\n",
    "print(\"Training set:\")\n",
    "e= LR.error_rate(x_train, class_train.reshape(-1))\n",
    "print(\"Test set\")\n",
    "e= LR.error_rate(x_test, class_test.reshape(-1))"
   ]
  },
  {
   "cell_type": "markdown",
   "metadata": {},
   "source": [
    "With l2 regularization, we still have an algorithm which can fit perfectly the training data (this is due to the fact that a solution which gives a set of parameters which fit perfectly the data is not unique). However this time, the error rate on test set is way better. We can also use cross validation to help us find the best lambda."
   ]
  },
  {
   "cell_type": "code",
   "execution_count": 26,
   "metadata": {},
   "outputs": [
    {
     "name": "stdout",
     "output_type": "stream",
     "text": [
      " Pour max_std = 0.1 , on a  174  features significatifs\n",
      " Pour max_std = 0.2 , on a  174  features significatifs\n",
      " Pour max_std = 0.30000000000000004 , on a  174  features significatifs\n",
      " Pour max_std = 0.4 , on a  174  features significatifs\n",
      " Pour max_std = 0.5 , on a  174  features significatifs\n",
      " Pour max_std = 0.6000000000000001 , on a  174  features significatifs\n",
      " Pour max_std = 0.7000000000000001 , on a  174  features significatifs\n",
      " Pour max_std = 0.8 , on a  174  features significatifs\n",
      " Pour max_std = 0.9 , on a  174  features significatifs\n",
      " Pour max_std = 1.0 , on a  174  features significatifs\n",
      " Pour max_std = 1.1 , on a  174  features significatifs\n",
      " Pour max_std = 1.2000000000000002 , on a  174  features significatifs\n",
      " Pour max_std = 1.3 , on a  174  features significatifs\n",
      " Pour max_std = 1.4000000000000001 , on a  174  features significatifs\n",
      " Pour max_std = 1.5 , on a  174  features significatifs\n",
      " Pour max_std = 1.6 , on a  174  features significatifs\n",
      " Pour max_std = 1.7000000000000002 , on a  174  features significatifs\n",
      " Pour max_std = 1.8 , on a  174  features significatifs\n",
      " Pour max_std = 1.9000000000000001 , on a  174  features significatifs\n"
     ]
    },
    {
     "data": {
      "image/png": "[encoded data removed]",
      "text/plain": [
       "<Figure size 432x288 with 1 Axes>"
      ]
     },
     "metadata": {},
     "output_type": "display_data"
    }
   ],
   "source": [
    "def cross_val2(K=5):\n",
    "    # Nombre de fold de la cross validation\n",
    "    # Nombre de données total pour les classes 5 et 6\n",
    "    N_5 = 145\n",
    "    N_6 = 200\n",
    "    # nombre de données des classes 5 et 6 par fold\n",
    "    size_5 = N_5//K\n",
    "    size_6 = N_6//K\n",
    "    # Recueil les erreurs moyennes\n",
    "    moyennes_train = []\n",
    "    moyennes_test  = []\n",
    "    # ensemble des écarts-types maximal testés\n",
    "    lambdas = [0.1*j for j in range(1,20)]\n",
    "    for Lambda in lambdas:\n",
    "        # Recueil les erreurs pour un écart type maximal égal à max_std\n",
    "        error_train = []\n",
    "        error_test = []\n",
    "        for i in range(K):\n",
    "\n",
    "            # Ensemble d'entrainement (on doit récupérer chez les 5 et chez les 6)\n",
    "            # les 145 premiers élément sont des 5 les suivants sont des 6\n",
    "            trainset_features_brut = np.vstack((x_train_brut[:i*size_5,:], x_train_brut[(i+1)*size_5:N_5,:],\n",
    "                                 x_train_brut[N_5 :N_5 + i*size_6,:], x_train_brut[N_5 + (i+1)*size_6 :,:]))\n",
    "            # Labels\n",
    "            trainset_labels   = np.ones(N_5 + N_6 - size_5 - size_6)\n",
    "            trainset_labels[:N_5-size_5] = 2\n",
    "    ####        # permet de gérer un PB####\n",
    "            t_labels  = trainset_labels != 2\n",
    "            # Ensemble de test\n",
    "            testset_features_brut = np.vstack((x_train_brut[i*size_5:(i+1)*size_5,:],\n",
    "                                 x_train_brut[N_5 + i*size_6:N_5 + (i+1)*size_6 ,:]))\n",
    "            # labels associés\n",
    "            testset_labels = np.ones(size_5 + size_6)\n",
    "            testset_labels[:size_5] = 2\n",
    "\n",
    "\n",
    "            # On sélectionne les features signicicatifs\n",
    "            is_significant = trainset_features_brut.std(axis=0)>0.5\n",
    "\n",
    "\n",
    "            trainset_features = trainset_features_brut[:,is_significant]\n",
    "            testset_features = testset_features_brut[:,is_significant]\n",
    "            if i == 0:\n",
    "                print(\" Pour max_std =\",Lambda,\", on a \", trainset_features.shape[1],\" features significatifs\")\n",
    "            # On effectue la régression logistique\n",
    "            LRcross_val = Logistic_Regression()\n",
    "\n",
    "            LRcross_val.train_l2(trainset_features, t_labels,Lambda=Lambda,Niter=7)\n",
    "\n",
    "            # On enregistre les données\n",
    "            error_train.append(LRcross_val.error_rate(trainset_features, trainset_labels, printer=False))\n",
    "            error_test.append(LRcross_val.error_rate(testset_features, testset_labels,printer=False))\n",
    "        # On calcul la moyenne\n",
    "        moyennes_train.append(np.mean(error_train))\n",
    "        moyennes_test.append(np.mean(error_test))\n",
    "    # On affiche le résultat\n",
    "    plot(lambdas, moyennes_train, label = \"Train\")\n",
    "    plot(lambdas, moyennes_test, label = \"Validation\")\n",
    "    legend()\n",
    "cross_val2()"
   ]
  },
  {
   "cell_type": "markdown",
   "metadata": {
    "collapsed": true
   },
   "source": [
    "## 3. Logistic regression using `scikit-learn`"
   ]
  },
  {
   "cell_type": "markdown",
   "metadata": {
    "collapsed": true
   },
   "source": [
    "1. **Go to** http://scikit-learn.org/stable/modules/generated/sklearn.linear_model.LogisticRegression.html for a presentation of the logistic regression model in `scikit-learn`.\n",
    "\n",
    "2. **Apply** it to the present data set.\n",
    "\n",
    "3. **Comment** on the use of logistic regression.\n",
    "\n",
    "*Indication : you may have a look at* \n",
    "\n",
    "a) Theory : http://openclassroom.stanford.edu/MainFolder/DocumentPage.php?course=MachineLearning&doc=exercises/ex5/ex5.html\n",
    "\n",
    "b) Video :  https://www.coursera.org/learn/machine-learning/lecture/4BHEy/regularized-logistic-regression \n",
    "\n",
    "c) Example : http://scikit-learn.org/stable/auto_examples/exercises/plot_digits_classification_exercise.html#sphx-glr-auto-examples-exercises-plot-digits-classification-exercise-py\n",
    "\n",
    "*for a short presentation of regularized logistic regression.*"
   ]
  },
  {
   "cell_type": "code",
   "execution_count": 27,
   "metadata": {},
   "outputs": [
    {
     "name": "stderr",
     "output_type": "stream",
     "text": [
      "/home/cindy/anaconda3/lib/python3.6/site-packages/h5py/__init__.py:36: FutureWarning: Conversion of the second argument of issubdtype from `float` to `np.floating` is deprecated. In future, it will be treated as `np.float64 == np.dtype(float).type`.\n",
      "  from ._conv import register_converters as _register_converters\n",
      "Using TensorFlow backend.\n"
     ]
    }
   ],
   "source": [
    "from keras.preprocessing import image \n",
    "pylab.rcParams['figure.figsize'] = (10, 5)\n",
    "from sklearn.linear_model import LogisticRegression\n",
    "from sklearn import preprocessing\n",
    "train_5 = np.loadtxt('train_5.txt',delimiter=',')   # 556 samples\n",
    "train_6 = np.loadtxt('train_6.txt',delimiter=',')   # 664 samples\n",
    "\n",
    "x_train_brut = np.vstack((train_5[:145,:], train_6[:200,:]))\n",
    "N_train = np.size(x_train_brut,axis=0)\n",
    "class_train = np.ones((345,1))   # label 1 for digit 6\n",
    "class_train[:145] = 2      # label 2 for digit 5, it allow to use function from part one\n",
    "\n",
    "x_test_brut = np.vstack((train_5[145:,:], train_6[200:,:]))\n",
    "N_test = x_test_brut.shape[0]\n",
    "class_test = np.ones((N_test,1))\n",
    "class_test[:556-145] = 2\n",
    "\n",
    "t_train = class_train != 2 "
   ]
  },
  {
   "cell_type": "markdown",
   "metadata": {},
   "source": [
    "Parameters of LogisticRegression scikit learn : \n",
    "- solver : Here, all solvers gives more or less similar results (Logistic regression is a convex optimization problem). We choose to work with liblinear solver. As specified in the doc of scikit learn, liblinear is a good choice for \"small\" datasets. Plus, it supports l1 and l2 penalty. \n",
    "- penalty : we will try l1 and l2. Penalty allows us to avoid overfitting the data. l1 penalty which encourages sparsity, makes sense: its effect would be to get rid of the unsignificant pixels.\n",
    "- class_weight : If we set it to 'balanced', the algorithm performs better, but this is because our data have more digits 6 than 5, in both training and test set. But here, we should not use it because nothing tells us that in the test set, we would also have more 6."
   ]
  },
  {
   "cell_type": "markdown",
   "metadata": {},
   "source": [
    "#### l2 Penalty"
   ]
  },
  {
   "cell_type": "code",
   "execution_count": 28,
   "metadata": {},
   "outputs": [
    {
     "name": "stdout",
     "output_type": "stream",
     "text": [
      "LR with l2 penalty:\n",
      "- with class_weight: (better performance)\n",
      "error rate : 2.2857142857142856 %\n",
      "- without class_weight: (In the sequel, we'll work without class_weight since it's irrelevant here)\n",
      "error rate : 2.4 %\n"
     ]
    },
    {
     "name": "stderr",
     "output_type": "stream",
     "text": [
      "/home/cindy/anaconda3/lib/python3.6/site-packages/sklearn/utils/validation.py:752: DataConversionWarning: A column-vector y was passed when a 1d array was expected. Please change the shape of y to (n_samples, ), for example using ravel().\n",
      "  y = column_or_1d(y, warn=True)\n",
      "/home/cindy/anaconda3/lib/python3.6/site-packages/sklearn/utils/validation.py:752: DataConversionWarning: A column-vector y was passed when a 1d array was expected. Please change the shape of y to (n_samples, ), for example using ravel().\n",
      "  y = column_or_1d(y, warn=True)\n",
      "/home/cindy/anaconda3/lib/python3.6/site-packages/sklearn/utils/validation.py:752: DataConversionWarning: A column-vector y was passed when a 1d array was expected. Please change the shape of y to (n_samples, ), for example using ravel().\n",
      "  y = column_or_1d(y, warn=True)\n",
      "/home/cindy/anaconda3/lib/python3.6/site-packages/sklearn/utils/validation.py:752: DataConversionWarning: A column-vector y was passed when a 1d array was expected. Please change the shape of y to (n_samples, ), for example using ravel().\n",
      "  y = column_or_1d(y, warn=True)\n"
     ]
    }
   ],
   "source": [
    "## With penalty l2\n",
    "print(\"LR with l2 penalty:\")\n",
    "LR_penalty_l2 = LogisticRegression(solver='liblinear', class_weight='balanced', penalty='l2',\n",
    "                                           multi_class='ovr')\n",
    "LR_penalty_l2.fit(x_train_brut,class_train)\n",
    "pred_train_no_penalty = LR_penalty_l2.predict(x_train_brut).reshape(class_train.shape)\n",
    "pred_test_no_penalty = LR_penalty_l2.predict(x_test_brut).reshape(class_test.shape)\n",
    "\n",
    "error_train_no_penalty = LR_penalty_l2.score(x_train_brut,class_train)\n",
    "error_test_no_penalty = LR_penalty_l2.fit(x_train_brut,class_train).score(x_test_brut,class_test)\n",
    "print(\"- with class_weight: (better performance)\")\n",
    "e = erreur(pred_test_no_penalty,class_test,printer=True)\n",
    "\n",
    "LR_penalty_l2 = LogisticRegression(solver='liblinear', \n",
    "                                           multi_class='ovr')\n",
    "LR_penalty_l2.fit(x_train_brut,class_train)\n",
    "pred_train_penalty_l2 = LR_penalty_l2.predict(x_train_brut).reshape(class_train.shape)\n",
    "pred_test_penalty_l2 = LR_penalty_l2.predict(x_test_brut).reshape(class_test.shape)\n",
    "\n",
    "error_train_penalty_l2 = LR_penalty_l2.score(x_train_brut,class_train)\n",
    "error_test_penalty_l2 = LR_penalty_l2.fit(x_train_brut,class_train).score(x_test_brut,class_test)\n",
    "print(\"- without class_weight: (In the sequel, we'll work without class_weight since it's irrelevant here)\")\n",
    "e = erreur(pred_test_penalty_l2,class_test,printer=True)"
   ]
  },
  {
   "cell_type": "code",
   "execution_count": null,
   "metadata": {},
   "outputs": [
    {
     "name": "stdout",
     "output_type": "stream",
     "text": [
      "There are  21  misclassified classes, for l2 penalty LR:\n"
     ]
    }
   ],
   "source": [
    "# misclassified image\n",
    "misclassified_l2 = x_test_brut[pred_test_penalty_l2.reshape(-1) != class_test.reshape(-1)]\n",
    "print(\"There are \", misclassified_l2.shape[0], \" misclassified classes, for l2 penalty LR:\")\n",
    "for n in range(misclassified_l2.shape[0]):\n",
    "    plt.subplot(3,10,n+1)\n",
    "    I = reshape(misclassified_l2[n,:],(16,16))\n",
    "    plt.imshow(I,cmap='gray')\n"
   ]
  },
  {
   "cell_type": "markdown",
   "metadata": {},
   "source": [
    "Some of those misclassfied class couldn't be recognized even by a human so we can understand that the algorithm doesn't reognize them either. However, some digits are very recognizable : for example on the second line, the 6 are quite recognizable. This misclassification might come from the lack of data. Therefore, one idea could be to augment the data by adding some more digits which have been transformed (rotation angle, zoom etc..)"
   ]
  },
  {
   "cell_type": "code",
   "execution_count": null,
   "metadata": {},
   "outputs": [],
   "source": [
    "## With penalty l1\n",
    "print(\"LR with l1 penalty :\")\n",
    "LR_penalty_l1 = LogisticRegression(solver='liblinear', penalty='l1',\n",
    "                                           multi_class='ovr')\n",
    "LR_penalty_l1.fit(x_train_brut,class_train)\n",
    "pred_train_penalty_l1 = LR_penalty_l1.predict(x_train_brut).reshape(class_train.shape)\n",
    "pred_test_penalty_l1 = LR_penalty_l1.predict(x_test_brut).reshape(class_test.shape)\n",
    "\n",
    "error_train_penalty_l1 = LR_penalty_l1.score(x_train_brut,class_train)\n",
    "error_test_penalty_l1 = LR_penalty_l1.fit(x_train_brut,class_train).score(x_test_brut,class_test)\n",
    "e= erreur(pred_test_penalty_l1,class_test,printer=True)"
   ]
  },
  {
   "cell_type": "code",
   "execution_count": null,
   "metadata": {},
   "outputs": [],
   "source": [
    "# misclassified image\n",
    "misclassified_l1 = x_test_brut[pred_test_penalty_l1.reshape(-1) != class_test.reshape(-1)]\n",
    "print(\"There are \", misclassified_l1.shape[0], \" misclassified classes, for l1 penalty LR:\")\n",
    "for n in range(10):\n",
    "    plt.subplot(3,10,n+1)\n",
    "    n=n\n",
    "    I = reshape(misclassified_l1[n,:],(16,16))\n",
    "    plt.imshow(I,cmap='gray')\n",
    "    \n",
    "for n in range(10):\n",
    "    plt.subplot(3,10,n+11)\n",
    "    n=n+10\n",
    "    I = reshape(misclassified_l1[n,:],(16,16))\n",
    "    plt.imshow(I,cmap='gray')\n",
    "    \n",
    "for n in range(8):\n",
    "    plt.subplot(3,10,n+21)\n",
    "    n=n+20\n",
    "    I = reshape(misclassified_l1[n,:],(16,16))\n",
    "    plt.imshow(I,cmap='gray')\n",
    "    "
   ]
  },
  {
   "cell_type": "markdown",
   "metadata": {},
   "source": [
    "The results with l1 penalty are slightly worse than with l2 penalty. Both of them avoid overfitting the data, so it's better than with no penalty at all. Maybe the reason why l1 performs less well is because it gets rid of pixels which actually are significant for some images. For example, if we have a lot of \"small\" digits (ie which cover just a little part of the space in the center, cf figure (a) below), l1 penalty will tend to say that the black pixels around the 6 are irrelevant. Such that, if we have to predict a big 6 (ie which covers the entire space, cf figure (b) below), the algorithm won't recognize it, since it the pixels on the edges are considered irrelevant."
   ]
  },
  {
   "cell_type": "code",
   "execution_count": null,
   "metadata": {},
   "outputs": [],
   "source": [
    "### figure (a) and figure (b)\n",
    "\n",
    "plt.subplot (1,2,1)\n",
    "img_small = misclassified_l1[-5,:].reshape((16,16))\n",
    "plt.imshow(img_small,cmap='gray')\n",
    "plt.title(\"figure (a), small 6\")\n",
    "\n",
    "plt.subplot (1,2,2)\n",
    "img_small = misclassified_l1[-8,:].reshape((16,16))\n",
    "plt.imshow(img_small,cmap='gray')\n",
    "plt.title(\"figure (b), big 6\")"
   ]
  },
  {
   "cell_type": "markdown",
   "metadata": {},
   "source": [
    "##### Data augmentation"
   ]
  },
  {
   "cell_type": "markdown",
   "metadata": {},
   "source": [
    "We can try to augment our dataset, by rotating some images, or zooming them, moving them, and so on.\n",
    "For example:"
   ]
  },
  {
   "cell_type": "code",
   "execution_count": null,
   "metadata": {},
   "outputs": [],
   "source": [
    "datagen = image.ImageDataGenerator()\n",
    "\n",
    "transform_parameters = {'theta':0, \n",
    "                        'shear':50,\n",
    "                       'zy': 1.9\n",
    "                        }"
   ]
  },
  {
   "cell_type": "code",
   "execution_count": null,
   "metadata": {},
   "outputs": [],
   "source": [
    "#x_train_augmented = x_train_brut.reshape((x_train_brut.shape[0],1,16,16))\n",
    "N_train_5 = 145 # number of training data of class 5\n",
    "N_train_6 = 200\n",
    "N_new_data = 140 #number of new 5 or new 6 generated\n",
    "\n",
    "new_5_train = np.zeros((N_new_data,16*16))\n",
    "new_6_train = np.zeros((N_new_data,16*16))\n",
    "i=1\n",
    "for k in range(N_new_data):\n",
    "    new_5_train[k] = datagen.apply_transform(train_5[k].reshape(1,16,16),transform_parameters).reshape((16*16))\n",
    "    new_6_train[k] = datagen.apply_transform(train_6[k].reshape(1,16,16),transform_parameters).reshape((16*16))\n",
    "    if k%100==0:\n",
    "        plt.subplot(1,5,i)\n",
    "        plt.imshow(new_6_train[k].reshape(16,16),cmap='gray')\n",
    "        plt.title(\"transformed image\")\n",
    "        i+=1\n",
    "        plt.subplot(1,5,i)\n",
    "        plt.imshow(train_6[k].reshape(16,16),cmap='gray')\n",
    "        plt.title(\"original image\")\n",
    "        i+=1\n",
    "\n",
    "\n",
    "x_train_augmented = np.vstack((train_5[:N_train_5,:],new_5_train, train_6[:N_train_6,:],new_6_train))\n",
    "N_train = x_train_brut.shape[0]\n",
    "class_train = np.ones((x_train_augmented.shape[0],1))   # label 1 for digit 6\n",
    "class_train[:N_train_5+N_new_data] = 2      # label 2 for digit 5\n",
    "\n",
    "x_test_brut = np.vstack((train_5[N_train_5:,:], train_6[N_train_6:,:]))\n",
    "N_test = x_test_brut.shape[0]\n",
    "class_test = np.ones((N_test,1))\n",
    "class_test[:556-N_train_5] = 2\n",
    "\n",
    "t_train = class_train != 2 \n",
    "#x_train_brut = preprocessing.scale(x_train_brut)\n",
    "datagen = image.ImageDataGenerator()"
   ]
  },
  {
   "cell_type": "code",
   "execution_count": null,
   "metadata": {},
   "outputs": [],
   "source": [
    "## With penalty l2\n",
    "print(\"LR with l2 penalty:\")\n",
    "\n",
    "LR_penalty_l2 = LogisticRegression(solver='liblinear', \n",
    "                                           multi_class='ovr')\n",
    "LR_penalty_l2.fit(x_train_augmented,class_train)\n",
    "pred_train_penalty_l2_augmented = LR_penalty_l2.predict(x_train_augmented).reshape(class_train.shape)\n",
    "pred_test_penalty_l2_augmented = LR_penalty_l2.predict(x_test_brut).reshape(class_test.shape)\n",
    "\n",
    "erreur(pred_test_penalty_l2_augmented,class_test,printer=True)"
   ]
  },
  {
   "cell_type": "code",
   "execution_count": null,
   "metadata": {},
   "outputs": [],
   "source": [
    "# misclassified image\n",
    "misclassified_l2_augmented = x_test_brut[pred_test_penalty_l2_augmented.reshape(-1) != class_test.reshape(-1)]\n",
    "print(\"There are \", misclassified_l2_augmented.shape[0], \" misclassified classes, with data augmentation:\")\n",
    "for n in range(misclassified_l2_augmented.shape[0]):\n",
    "    plt.subplot(3,10,n+1)\n",
    "    I = reshape(misclassified_l2_augmented[n,:],(16,16))\n",
    "    plt.imshow(I,cmap='gray')\n",
    "    plt.title(n)\n",
    "plt.show()\n",
    "print(\"There were \", misclassified_l2.shape[0], \" misclassified classes, without data augmentation:\")\n",
    "for n in range(misclassified_l2.shape[0]):\n",
    "    plt.subplot(3,10,n+1)\n",
    "    I = reshape(misclassified_l2[n,:],(16,16))\n",
    "    plt.imshow(I,cmap='gray')\n",
    "    plt.title(n)"
   ]
  },
  {
   "cell_type": "markdown",
   "metadata": {},
   "source": [
    "There are less mistakes with data augmentation. <br>\n",
    "Some misclassified digits are now well classified, but among those, there are some unreadable digits like the digit n°8 (in the 3rd line), are now well classified, which is not satisfying. <br> \n",
    "However, we think we could have tuned the parameters of the data augmentation better than this. (in particular, we didn't manage to tune the zoom out with respect to axis x...)"
   ]
  },
  {
   "cell_type": "markdown",
   "metadata": {},
   "source": [
    "###### What if we had less data? Let's try with only 10 training examples"
   ]
  },
  {
   "cell_type": "code",
   "execution_count": null,
   "metadata": {},
   "outputs": [],
   "source": [
    "datagen = image.ImageDataGenerator()\n",
    "\n",
    "transform_parameters = {'theta':0, \n",
    "                       'shear':50,\n",
    "                        #'tx':12 ,\n",
    "                        #'ty':1,\n",
    "                        #'zx':13,\n",
    "                       'zy': 1.9\n",
    "                        }"
   ]
  },
  {
   "cell_type": "code",
   "execution_count": null,
   "metadata": {},
   "outputs": [],
   "source": [
    "N_train_5 = 10 # number of training data of class 5\n",
    "N_train_6 = 10\n",
    "N_new_data = 10 #number of new 5 or new 6 generated\n",
    "\n",
    "new_5_train = np.zeros((N_new_data,16*16))\n",
    "new_6_train = np.zeros((N_new_data,16*16))\n",
    "i=1\n",
    "for k in range(N_new_data):\n",
    "    new_5_train[k] = datagen.apply_transform(train_5[k].reshape(1,16,16),transform_parameters).reshape((16*16))\n",
    "    new_6_train[k] = datagen.apply_transform(train_6[k].reshape(1,16,16),transform_parameters).reshape((16*16))\n",
    "\n",
    "        \n",
    "x_train_brut = np.vstack((train_5[:N_train_5,:], train_6[:N_train_6,:]))\n",
    "N_train_brut = x_train_brut.shape[0]\n",
    "class_train_brut = np.ones((x_train_brut.shape[0],1))   # label 1 for digit 6\n",
    "class_train_brut[:N_train_5] = 2      # label 2 for digit 5\n",
    "\n",
    "\n",
    "x_train_augmented = np.vstack((train_5[:N_train_5,:],new_5_train, train_6[:N_train_6,:],new_6_train))\n",
    "N_train_augmented = x_train_brut.shape[0]\n",
    "class_train_augmented = np.ones((x_train_augmented.shape[0],1))   # label 1 for digit 6\n",
    "class_train_augmented[:N_train_5+N_new_data] = 2      # label 2 for digit 5\n",
    "\n",
    "x_test_brut = np.vstack((train_5[N_train_5:,:], train_6[N_train_6:,:]))\n",
    "N_test = x_test_brut.shape[0]\n",
    "class_test = np.ones((N_test,1))\n",
    "class_test[:556-N_train_5] = 2\n",
    "\n",
    "t_train = class_train != 2 \n",
    "#x_train_brut = preprocessing.scale(x_train_brut)\n",
    "datagen = image.ImageDataGenerator()"
   ]
  },
  {
   "cell_type": "code",
   "execution_count": null,
   "metadata": {},
   "outputs": [],
   "source": [
    "## With penalty l2\n",
    "print(\"LR with l2 penalty, without data augmentation:\")\n",
    "\n",
    "LR_penalty_l2 = LogisticRegression(solver='liblinear', \n",
    "                                           multi_class='ovr')\n",
    "LR_penalty_l2.fit(x_train_brut,class_train_brut)\n",
    "pred_train_penalty_l2 = LR_penalty_l2.predict(x_train_brut).reshape(class_train_brut.shape)\n",
    "pred_test_penalty_l2 = LR_penalty_l2.predict(x_test_brut).reshape(class_test.shape)\n",
    "\n",
    "e = erreur(pred_test_penalty_l2,class_test,printer=True)"
   ]
  },
  {
   "cell_type": "code",
   "execution_count": null,
   "metadata": {},
   "outputs": [],
   "source": [
    "## With penalty l2\n",
    "print(\"LR with l2 penalty, and data augmentation:\")\n",
    "\n",
    "LR_penalty_l2 = LogisticRegression(solver='liblinear', \n",
    "                                           multi_class='ovr')\n",
    "LR_penalty_l2.fit(x_train_augmented,class_train_augmented)\n",
    "pred_train_penalty_l2_augmented = LR_penalty_l2.predict(x_train_augmented).reshape(class_train_augmented.shape)\n",
    "pred_test_penalty_l2_augmented = LR_penalty_l2.predict(x_test_brut).reshape(class_test.shape)\n",
    "\n",
    "e = erreur(pred_test_penalty_l2_augmented,class_test,printer=True)"
   ]
  },
  {
   "cell_type": "markdown",
   "metadata": {},
   "source": [
    "With data augmentation it's slightly better. And again, if we tune the parameters for the data augmentation better, we think we could have better results."
   ]
  },
  {
   "cell_type": "code",
   "execution_count": null,
   "metadata": {},
   "outputs": [],
   "source": []
  },
  {
   "cell_type": "code",
   "execution_count": null,
   "metadata": {},
   "outputs": [],
   "source": []
  },
  {
   "cell_type": "code",
   "execution_count": null,
   "metadata": {},
   "outputs": [],
   "source": []
  },
  {
   "cell_type": "code",
   "execution_count": null,
   "metadata": {},
   "outputs": [],
   "source": []
  },
  {
   "cell_type": "code",
   "execution_count": null,
   "metadata": {},
   "outputs": [],
   "source": []
  }
 ],
 "metadata": {
  "kernelspec": {
   "display_name": "Python 3",
   "language": "python",
   "name": "python3"
  },
  "language_info": {
   "codemirror_mode": {
    "name": "ipython",
    "version": 3
   },
   "file_extension": ".py",
   "mimetype": "text/x-python",
   "name": "python",
   "nbconvert_exporter": "python",
   "pygments_lexer": "ipython3",
   "version": "3.6.5"
  }
 },
 "nbformat": 4,
 "nbformat_minor": 2
}
